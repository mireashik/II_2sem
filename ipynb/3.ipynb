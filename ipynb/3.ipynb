{
  "cells": [
    {
      "cell_type": "markdown",
      "source": "### 1.2.1 Пример\nНапишите функцию sum_range(start, end), которая суммирует все целые числа от значения «start» до величины «end» включительно. Если пользователь задаст первое число большее чем второе, просто поменяйте их местами",
      "metadata": {
        "cell_id": "3c5556d2faf546cabad93b2bf21fe239",
        "deepnote_cell_type": "markdown"
      }
    },
    {
      "cell_type": "code",
      "metadata": {
        "cell_id": "dd53c22268464b7ca05aa3f15e2add36",
        "source_hash": "738cf2d5",
        "execution_start": 1684828715443,
        "execution_millis": 4,
        "deepnote_to_be_reexecuted": false,
        "deepnote_cell_type": "code"
      },
      "source": "def sum_range(start, end):\n  if start > end:\n    end, start = start, end\n  return sum(range(start, end + 1))\n# Тесты\nprint(sum_range(2, 12))\nprint(sum_range(-4, 4))\nprint(sum_range(3, 2))",
      "outputs": [],
      "execution_count": 1
    },
    {
      "cell_type": "markdown",
      "source": "### 1.2.2 Пример\nНапишите рекурсивную функцию вычисления факториала на языке Python",
      "metadata": {
        "cell_id": "e02d972076f846e8a03e62e71fc946d0",
        "deepnote_cell_type": "markdown"
      }
    },
    {
      "cell_type": "code",
      "metadata": {
        "cell_id": "85c184a3e90a4aa1855b8be9a212fd5e",
        "source_hash": "4b858450",
        "execution_start": 1684828715522,
        "execution_millis": 29,
        "deepnote_to_be_reexecuted": false,
        "deepnote_cell_type": "code"
      },
      "source": "def fact(num):\n  if num == 0:\n    return 1 # По договоренности факториал нуля равен единице\n  else:\n    return num * fact(num - 1)\n  # возвращаем результат произведения пит и результата возвращенного функцией fact(num - 1)\nprint(fact(5))",
      "outputs": [],
      "execution_count": 2
    },
    {
      "cell_type": "markdown",
      "source": "### 1.2.3 Пример\nНапишите функции в Python, которая вычисляет Евклидово расстояние между двумя массивами NumPy",
      "metadata": {
        "cell_id": "bb974e05aaa84457a6c5335583ef91ad",
        "deepnote_cell_type": "markdown"
      }
    },
    {
      "cell_type": "code",
      "metadata": {
        "cell_id": "47bc3b91b61f461195676a58c7dcb791",
        "source_hash": "3675010a",
        "execution_start": 1684828715550,
        "execution_millis": 2,
        "deepnote_to_be_reexecuted": false,
        "deepnote_cell_type": "code"
      },
      "source": "import numpy as np\n\ndef euclidean_distance(v1, v2):\n  return sum((x - y) ** 2 for x, y in zip(v1, v2)) ** 0.5\nx = np.array([0,0,0])\ny = np.array([3,3,3])\nprint(euclidean_distance(x,y))",
      "outputs": [],
      "execution_count": 3
    },
    {
      "cell_type": "markdown",
      "source": "### 1.2.4 Пример\nНапишите 4 функции в Python, которые рассчитывают квадрат Евклидова расстояния, взвешенное евклидово расстояние, Хеммингово расстояние и расстояние Чебышева между двумя массивами NumPy",
      "metadata": {
        "cell_id": "829513a847d6426d9d67ef3028be8ba5",
        "deepnote_cell_type": "markdown"
      }
    },
    {
      "cell_type": "code",
      "metadata": {
        "cell_id": "f104f257bab340e08e400c9f944bdcd1",
        "source_hash": "eea744f4",
        "execution_start": 1684828715550,
        "execution_millis": 3,
        "deepnote_to_be_reexecuted": false,
        "deepnote_cell_type": "code"
      },
      "source": "def sqr_euclidean_distance(v1, v2):\n  return sum((x - y) ** 2 for x, y in zip(v1, v2))\n\ndef weighted_euclidean_distance(v1, v2, w):\n  return sum((x - y) ** 2 * s for x, y, s in zip(v1, v2, w)) ** 0.5\n  \ndef manhattan_distance(v1, v2):\n  return sum(abs(x - y) for (x, y) in zip(v1, v2))\n\ndef chebyshev_distance(v1, v2):\n  return max(abs(x - y) for (x, y) in zip(v1, v2))\n\nx = np.array([0,0,0])\ny = np.array([3,3,3])\nw = np.array([0,0,1])\nprint(sqr_euclidean_distance(x,y))\nprint(weighted_euclidean_distance(x,y,w))\nprint(manhattan_distance(x,y))\nprint(chebyshev_distance(x,y))",
      "outputs": [],
      "execution_count": 4
    },
    {
      "cell_type": "markdown",
      "source": "### 1.2.5 Пример\nВ Python есть встроенные функции для вычисления расстояний между векторами. Мы будем использовать NumPy для расчета расстояния для двух точек, поскольку ранее рассмотренные структуры данных могут быть переведены в Numpy массив с помошью специальных функциий. Например, для серий это будет выглядеть следующим образом: seriesName.to_numpy(). Для удобства визуализации и анализа результатов в дальнейших расчетах будм использовать 2 точки в 3-х мерном пространстве",
      "metadata": {
        "cell_id": "e41bc9ea766a416c8b89433138ef3157",
        "deepnote_cell_type": "markdown"
      }
    },
    {
      "cell_type": "code",
      "metadata": {
        "cell_id": "a25209f23328466b865daaaaea660d4a",
        "source_hash": "f0bd24a0",
        "execution_start": 1684828715553,
        "execution_millis": 2190,
        "deepnote_to_be_reexecuted": false,
        "deepnote_cell_type": "code"
      },
      "source": "import matplotlib.pyplot as plt\nfrom mpl_toolkits.mplot3d import Axes3D\n\nfig = plt.figure()\nax = fig.add_subplot(111, projection = '3d')\n\nax.scatter(0, 0, 0)\nax.scatter(3, 3, 3)\nplt.show()",
      "outputs": [],
      "execution_count": 5
    },
    {
      "cell_type": "markdown",
      "source": "### 1.2.6 Пример\nРассчитать расстояния между двумя точками с использованием методов определения расстояний, представленных выше",
      "metadata": {
        "cell_id": "607037ec30354616858e76a7779ea335",
        "deepnote_cell_type": "markdown"
      }
    },
    {
      "cell_type": "code",
      "metadata": {
        "cell_id": "ce7d4b53f6024572b7177bd473582075",
        "source_hash": "3344d09b",
        "execution_start": 1684829299317,
        "execution_millis": 4,
        "deepnote_to_be_reexecuted": false,
        "deepnote_cell_type": "code"
      },
      "source": "#Расстояние Евклида\nprint(np.linalg.norm(x-y))\n#Квадрат Евклидова расстояния\nprint(np.linalg.norm(x-y) ** 2)\n#Расстояние Чебышева\nprint(np.linalg.norm(x-y, ord=np.inf))\n#Расстояние Хемминга\nprint(np.linalg.norm(x-y, ord=1))",
      "outputs": [],
      "execution_count": 17
    },
    {
      "cell_type": "markdown",
      "source": "### 1.3.1 Задание\nЗадайте 4 точки в трехмерном пространстве, рассчитайте между ними расстояния по описанным в примере выше метрикам. Отобразите точки в трехмерном пространстве",
      "metadata": {
        "cell_id": "c5366d90e91f48669ae59a116db94031",
        "deepnote_cell_type": "markdown"
      }
    },
    {
      "cell_type": "code",
      "metadata": {
        "cell_id": "e878326d6926457c9bb862b46c10c65a",
        "source_hash": "8d670ea7",
        "execution_start": 1684829303061,
        "execution_millis": 370,
        "deepnote_to_be_reexecuted": false,
        "deepnote_cell_type": "code"
      },
      "source": "fig = plt.figure()\nax = fig.add_subplot(111, projection = '3d')\n\nx = np.array([0,0,0])\ny = np.array([3,3,3])\nz = np.array([0,1,1])\nw = np.array([1,2,3])\n\nax.scatter(*x)\nax.scatter(3, 3, 3)\nax.scatter(0, 1, 1)\nax.scatter(1, 2, 3)\nplt.show()\n\nprint('Расстояние Евклида между x и y:', np.linalg.norm(x-y))\nprint('Квадрат Евклидова расстояния между y и z:', np.linalg.norm(y-z) ** 2)\nprint('Расстояние Чебышева между z и w:', np.linalg.norm(z-w, ord=np.inf))\nprint('Расстояние Хемминга между w и x:', np.linalg.norm(w-x,ord=1))\n\n'''\nУказания: сделать scatter через вызов переменных и сделать все пары четырех точек \n'''",
      "outputs": [],
      "execution_count": 18
    },
    {
      "cell_type": "markdown",
      "source": "### 1.3.2 Задание\nСоздать 5x5 матрицу со значениями в строках от 0 до 4. Для создания необходимо использовать функцию arange",
      "metadata": {
        "cell_id": "035bf23ec61b442c94b3ba8570d15a57",
        "deepnote_cell_type": "markdown"
      }
    },
    {
      "cell_type": "code",
      "metadata": {
        "cell_id": "b38a83d4eaf345dfb22a979a9ee4af70",
        "source_hash": "6debd6fa",
        "execution_start": 1684828732142,
        "execution_millis": 5,
        "deepnote_to_be_reexecuted": false,
        "deepnote_cell_type": "code"
      },
      "source": "Z = np.zeros((5,5))\nZ += np.arange(5)\nprint(Z)",
      "outputs": [],
      "execution_count": 8
    },
    {
      "cell_type": "markdown",
      "source": "### 2.2.1 Пример\nВ примере показано создание 2d-массива со значениями x и y. Список target содержит возможные выходные классы (часто называемые метками). Далее происходит обучене классификатора k-ближайших соседей по исходным данным. Далее производится прогноз принадлежности к классам для двух точек данных",
      "metadata": {
        "cell_id": "2169264382484717998d63d0a27347ba",
        "deepnote_cell_type": "markdown"
      }
    },
    {
      "cell_type": "code",
      "metadata": {
        "cell_id": "99f4691fe2d84f478a161142770a0453",
        "source_hash": "5673cc24",
        "execution_start": 1684828732152,
        "execution_millis": 1026,
        "deepnote_to_be_reexecuted": false,
        "deepnote_cell_type": "code"
      },
      "source": "from sklearn.neighbors import KNeighborsClassifier\n\n# данные\nX = np.array([[-1, -1], [-2, -1], [-3, -2], [1, 1], [2, 1], [3, 2]])\ntarget = [0, 0, 0, 1, 1, 1]\n\n# обучаем модель k-ближайших соседей к данным\nK = 3\nmodel = KNeighborsClassifier(n_neighbors = K)\nmodel.fit(X, target)\nprint(model)\n\n# делаем прогноз\nprint( '(-2,-2) is class'),\nprint( model. predict([[-2,-2]]) )\n\nprint( '(1,3) is class'),\nprint( model.predict([[1,3]]) )",
      "outputs": [],
      "execution_count": 9
    },
    {
      "cell_type": "markdown",
      "source": "### 2.2.2 Пример\nДалее приведем более наглядный пример. Будет построена граница решения для каждого класса. В качестве данных будем использовать уже знакомый нам и встроенный в библиотеку `sklearn` набор данных ирисов Фишера. Этот набор данных стал уже классическим, и часто используется в литературе для иллюстрации работы различных статистических алгоритмов. Датасет содержит наблюдения за 150 разными цветками ирисов, данные по каждому цветку расположены в строках. В стобцах записаны длина и ширина чашелистика, длина и ширина лепестка, вид ириса.",
      "metadata": {
        "cell_id": "4248ccb5216246068bf8323725b8b4be",
        "deepnote_cell_type": "markdown"
      }
    },
    {
      "cell_type": "code",
      "metadata": {
        "cell_id": "48f461f4408a456e9aa2dbb9ac9bb947",
        "source_hash": "12974494",
        "execution_start": 1684828733176,
        "execution_millis": 673,
        "deepnote_to_be_reexecuted": false,
        "deepnote_cell_type": "code"
      },
      "source": "import seaborn as sns\n\niris = sns.load_dataset('iris')\niris",
      "outputs": [],
      "execution_count": 10
    },
    {
      "cell_type": "markdown",
      "source": "### 2.2.3 Пример\nПокажем на графиках зависимости ширины лепестка от его длины, а также аналогичный график зависимость для длины и ширины чашелистика. Разные виды цветков отмечены разными цветами.",
      "metadata": {
        "cell_id": "6690531759e04f52898b7b8837df1ff0",
        "deepnote_cell_type": "markdown"
      }
    },
    {
      "cell_type": "code",
      "metadata": {
        "cell_id": "28a40b467b5e4e4e8cf874867646cfd8",
        "source_hash": "63c2fec3",
        "execution_start": 1684828733858,
        "execution_millis": 764,
        "deepnote_to_be_reexecuted": false,
        "deepnote_cell_type": "code"
      },
      "source": "# Объявляем фигуру из двух графиков и ее размер\nplt.figure(figsize=(16, 7))\n\n# Левый график\nplt.subplot(121)\nsns.scatterplot(\ndata=iris, # из этой таблицы нарисовать точки\n    x='petal_width', y='petal_length',\n    # с этими координатами,\n    hue='species', # для которых цвет определить согласно этому столбцу\n    s=70 # размер точек\n)\nplt.xlabel('Длина лепестка, см')\nplt.ylabel('Ширина лепестка, см')\nplt.legend() # добавить легенду\nplt.grid() # добавить сетку\n\n# Правый график аналогично\nplt.subplot(122)\nsns.scatterplot(data=iris, x='sepal_width', y='sepal_length', hue='species', s=70)\nplt.xlabel('Длина чашелистика, см')\nplt.ylabel('Ширина чашелистика, см')\nplt.legend()\nplt.grid();",
      "outputs": [],
      "execution_count": 11
    },
    {
      "cell_type": "markdown",
      "source": "### 2.2.4 Пример\nИз графиков видно, что в первом случае классы визуально хорошо отделимы друг от друга, хотя два классе имеют небольшое пересечение. Во втором случае разделить два класса между собой уже намного труднее. Далее разделим датасет на обучающую и тестовую выборки в соотношении 80:20. Обучающая выборка (training sample) — выборка, по которой производится настройка (оптимизация параметров) модели зависимости. Тестовая (или контрольная) выборка (test sample) — выборка, по которой оценивается качество построенной модели.",
      "metadata": {
        "cell_id": "56452feb3b5d4462b127b6c3a01a3de2",
        "deepnote_cell_type": "markdown"
      }
    },
    {
      "cell_type": "code",
      "metadata": {
        "cell_id": "f8163937bb1c415daf719d15d0194db1",
        "source_hash": "5ac0358f",
        "execution_start": 1684828734636,
        "execution_millis": 436,
        "deepnote_to_be_reexecuted": false,
        "deepnote_cell_type": "code"
      },
      "source": "from sklearn.model_selection import train_test_split\n\nX_train, X_test, y_train, y_test = train_test_split(\n    # поскольку iris это pandas-таблица, для нее нужно указывать iloc\n    iris.iloc[:, :-1], # берем все колонки кроме последней в признаки\n    iris.iloc[:, -1], # последнюю целевую переменную (класс)\n    test_size = 0.20 # размер тестовой выборки 20%\n)\n\nX_train.shape, X_test.shape, y_train.shape, y_test.shape\n\nX_train.head()\ny_train.head()\n\n#Обучим метод трех ближайших соседей\nmodel = KNeighborsClassifier(n_neighbors=3)\nmodel.fit(X_train, y_train)\n#Получим предсказания модели\ny_pred = model.predict(X_test)\ny_pred\n\n# Покажем на графике, что отражает полученное число.\n# Красным цветом обозначены точки, для которых классификация сработала непрабильно.\nplt.figure(figsize=(10, 7))\nsns.scatterplot(x='petal_width', y='petal_length', data=iris, hue='species', s=70)\nplt.xlabel(\"Длина лепестка, см\")\nplt.ylabel(\"Ширина лепестка, см\")\nplt.legend(loc=2)\nplt.grid()\n\n# Перебираем все объекты из теста\nfor i in range(len(y_test)):\n    # Если предсказание неправильное\n    if np.array(y_test)[i] != y_pred[i]:\n    # то подсвечиваем точку красным\n        plt.scatter(X_test.iloc[i, 3], X_test.iloc[i, 2], color='red', s=150)\n\n#качество модели (доля правильно классифицированных точек)\nfrom sklearn.metrics import accuracy_score\nprint(f'accuracy: {accuracy_score(y_test, y_pred) :.3}')",
      "outputs": [],
      "execution_count": 12
    },
    {
      "cell_type": "markdown",
      "source": "### 2.3.1 Задание\nДля предыдущего примера поэкспериментируйте с параметрами классификатора",
      "metadata": {
        "cell_id": "3edd8bd2eff141e28c37c17747664dbe",
        "deepnote_cell_type": "markdown"
      }
    },
    {
      "cell_type": "code",
      "metadata": {
        "cell_id": "3c691ee0e8e64b289c18e01d215f1301",
        "source_hash": "ade43d96",
        "execution_start": 1684828735075,
        "execution_millis": 7975,
        "deepnote_to_be_reexecuted": false,
        "deepnote_cell_type": "code"
      },
      "source": "from sklearn.model_selection import train_test_split\nfrom sklearn.metrics import accuracy_score\n\n\ndef init_model(k, X_train, y_train, X_test): # Установите другое количество ближайших соседей (k = 1, 5, 10).\n    model = KNeighborsClassifier(n_neighbors=k)\n    model.fit(X_train, y_train)\n    print(model)\n    y_pred = model.predict(X_test)\n    return y_pred\n\ndef graph(y_test, X_test, y_pred): #  Постройте графики\n    plt.figure(figsize=(10, 7))\n    sns.scatterplot(x='petal_width', y='petal_length', data=iris, hue='species', s=70)\n    plt.xlabel(\"Длина лепестка, см\")\n    plt.ylabel(\"Ширина лепестка, см\")\n    plt.legend(loc=2)\n    plt.grid()\n\n    for i in range(len(y_test)):\n        if np.array(y_test)[i] != y_pred[i]:\n            plt.scatter(X_test.iloc[i, 3], X_test.iloc[i, 2], color='red', s=150)\n\nX_train, X_test, y_train, y_test = train_test_split(\n    iris.iloc[:, :-1],\n    iris.iloc[:, -1],\n    test_size = 0.15 # Установите размер тестовой выборки 15% от всего датасета.\n)\n\nX_train.shape, X_test.shape, y_train.shape, y_test.shape\n\nX_train.head()\ny_train.head()\n\nk = int(input('Чему равно k?'))\n\ny_pred = init_model(k, X_train, y_train, X_test)\nprint((f'accuracy: {accuracy_score(y_pred, y_test) :.3}'))\ngraph(y_test, X_test, y_pred)\n\n'''\nУказания: вывести все k сразу, проверить их аккуратность\n'''",
      "outputs": [],
      "execution_count": 13
    },
    {
      "cell_type": "markdown",
      "source": "### 3.2.1. Пример\nДан порядковый категориальный признак (например, высокий, средний, низкий). Выполнить его кодировку. Для решения задачи можно использовать метод replace фрейма данных pandas для преобразования строковых меток в числовые эквиваленты",
      "metadata": {
        "cell_id": "911dead74ccc4b7aa69ca7e1bb524e64",
        "deepnote_cell_type": "markdown"
      }
    },
    {
      "cell_type": "code",
      "metadata": {
        "cell_id": "ceb93f8c6ced467c959a466dfd05c752",
        "source_hash": "b9f658ee",
        "execution_start": 1684828743055,
        "execution_millis": 3,
        "deepnote_to_be_reexecuted": false,
        "deepnote_cell_type": "code"
      },
      "source": "# Загрузить библиотеку\nimport pandas as pd\n\n# Создать признаки\ndataframe = pd.DataFrame({\"оценка\": [\"низкая\", \"низкая\", \"средняя\", \"средняя\", \"высокая\"]})\n# Создать словарь преобразования шкалы\nscale_mapper = {\"низкая\":1,\"средняя\":2,\"высокая\":3}\n\n# Заменить значения признаков значениями словаря\ndataframe[\"оценка\"].replace(scale_mapper)",
      "outputs": [],
      "execution_count": 14
    },
    {
      "cell_type": "markdown",
      "source": "### 3.2.2. Пример\nДан словарь, и требуется его конвертировать в матрицу признаков. Для решения задачи можно задействовать класс-векторизатор словаря Dictvectorizer:",
      "metadata": {
        "cell_id": "25b7df96f7fc43e4a0e9847dcdb3b6e3",
        "deepnote_cell_type": "markdown"
      }
    },
    {
      "cell_type": "code",
      "metadata": {
        "cell_id": "680edcd0cf9544368adfd729d26def74",
        "source_hash": "c6208628",
        "execution_start": 1684828743076,
        "execution_millis": 28,
        "deepnote_to_be_reexecuted": false,
        "deepnote_cell_type": "code"
      },
      "source": "# Импортировать библиотеку\nfrom sklearn.feature_extraction import DictVectorizer\n# Создать словарь\ndata_dict = [{\"красный\": 2, \"синий\": 4},\n            {\"красный\": 4, \"синий\": 3},\n            {\"красный\": 1, \"желтый\": 2},\n            {\"красный\": 2, \"желтый\": 2}]\n# Создать векторизатор словаря\ndictvectorizer = DictVectorizer(sparse=False)\n# Конвертировать словарь в матрицу признаков\nfeatures = dictvectorizer.fit_transform(data_dict)\nfeatures",
      "outputs": [],
      "execution_count": 15
    },
    {
      "cell_type": "markdown",
      "source": "### 3.3.2. Задание\nОпределите набор признаков человека, по аналогии из РТ 1, – например, цвет глаз и конвертируйте его в матрицу признаков",
      "metadata": {
        "cell_id": "38f81d17c0ae468782971cd18692b069",
        "deepnote_cell_type": "markdown"
      }
    },
    {
      "cell_type": "code",
      "metadata": {
        "cell_id": "a71d4ceb210647759814c8ac4cc92de3",
        "source_hash": "b50ce75b",
        "execution_start": 1684828743114,
        "execution_millis": 3,
        "deepnote_to_be_reexecuted": false,
        "deepnote_cell_type": "code"
      },
      "source": "eye_color = [\n    {'зеленые': 1, 'синие': 0, 'карие': 0},\n    {'зеленые': 0, 'синие': 0, 'карие': 1},\n    {'зеленые': 1, 'синие': 0, 'карие': 0},\n    {'зеленые': 1, 'синие': 0, 'карие': 0},\n    {'зеленые': 0, 'синие': 0, 'карие': 1},\n]\n\ndictvectorizer = DictVectorizer(sparse=False)\nfeatures = dictvectorizer.fit_transform(eye_color)\nfeatures",
      "outputs": [],
      "execution_count": 16
    },
    {
      "cell_type": "markdown",
      "source": "<a style='text-decoration:none;line-height:16px;display:flex;color:#5B5B62;padding:10px;justify-content:end;' href='https://deepnote.com?utm_source=created-in-deepnote-cell&projectId=2480ccc6-6a1b-4590-b704-15c4e752c693' target=\"_blank\">\n<img alt='Created in deepnote.com' style='display:inline;max-height:16px;margin:0px;margin-right:7.5px;' src='data:image/svg+xml;base64,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' > </img>\nCreated in <span style='font-weight:600;margin-left:4px;'>Deepnote</span></a>",
      "metadata": {
        "created_in_deepnote_cell": true,
        "deepnote_cell_type": "markdown"
      }
    }
  ],
  "nbformat": 4,
  "nbformat_minor": 0,
  "metadata": {
    "deepnote": {},
    "kernelspec": {
      "name": "python3",
      "language": "python",
      "display_name": "Python 3"
    },
    "language_info": {
      "name": "python",
      "version": "3.10.4",
      "mimetype": "text/x-python",
      "file_extension": ".py",
      "pygments_lexer": "ipython3",
      "codemirror_mode": {
        "name": "ipython",
        "version": 3
      },
      "nbconvert_exporter": "python"
    },
    "orig_nbformat": 4,
    "deepnote_notebook_id": "e9d0b1fc391c49a2a91eb2fd56b0ee76",
    "deepnote_persisted_session": {
      "createdAt": "2023-05-23T09:31:22.333Z"
    },
    "deepnote_execution_queue": []
  }
}