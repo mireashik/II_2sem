{
  "cells": [
    {
      "cell_type": "markdown",
      "source": "### 1.2.1 Пример\nСоздать массив 5x2. Создать массив 5x2. Вывести все значения массива, значение элемента с индексом (3,1) и второй столбец. Индексация начинается с нуля.",
      "metadata": {
        "cell_id": "2c7317af71054aadaab6dccfad8b9fb4",
        "deepnote_cell_type": "markdown"
      }
    },
    {
      "cell_type": "code",
      "metadata": {
        "cell_id": "f61f41c9d2d84e4c85a00bc29b951c43",
        "source_hash": "6e8e1a44",
        "execution_start": 1683304150397,
        "execution_millis": 6,
        "deepnote_to_be_reexecuted": false,
        "deepnote_cell_type": "code"
      },
      "source": "import numpy as np\nx = np.array([[1,2], [3,4], [5,6], [7,8], [9,10]])\nprint(x)\nprint(x[3][1])\nprint(x[1])",
      "outputs": [],
      "execution_count": 1
    },
    {
      "cell_type": "markdown",
      "source": "### 1.2.2 Пример",
      "metadata": {
        "cell_id": "dd40648af081494a934a6dd50bc2c920",
        "deepnote_cell_type": "markdown"
      }
    },
    {
      "cell_type": "code",
      "metadata": {
        "cell_id": "cc07f86908394e559e4cd80b062fd771",
        "source_hash": "5308b60a",
        "execution_start": 1683304150406,
        "execution_millis": 2,
        "deepnote_to_be_reexecuted": false,
        "deepnote_cell_type": "code"
      },
      "source": "a = np.zeros(10) # Создать вектор (одномерный массив) размера 10, заполненный нулями\nb = np.ones(10) # Создать вектор размера 10, заполненный единицами\nc = np.full(10, 5) # Создать вектор размера 10, заполненный заданным числом\nd = np.arange(10, 20) # Создать вектор со значениями от 10 до 19 # arrange не найден?\nprint(a, \"\\n\", b, \"\\n\", c, \"\\n\", d)",
      "outputs": [],
      "execution_count": 2
    },
    {
      "cell_type": "markdown",
      "source": "### 1.2.3 Пример\nСоздать массив 10x10 со случайными значениями, найти минимум, максимум и среднее значение",
      "metadata": {
        "cell_id": "616a75e49c544112a1701714d3ad269a",
        "deepnote_cell_type": "markdown"
      }
    },
    {
      "cell_type": "code",
      "metadata": {
        "cell_id": "e20dc77fdfa84f3680264f51ef72f780",
        "source_hash": "62edd43b",
        "execution_start": 1683304150428,
        "execution_millis": 6,
        "deepnote_to_be_reexecuted": false,
        "deepnote_cell_type": "code"
      },
      "source": "Z = np.random.random((10, 10))\nZmin, Zmax, Zmean = Z.min(), Z.max(), Z.mean()\nprint(Zmin, Zmax, Zmean)",
      "outputs": [],
      "execution_count": 3
    },
    {
      "cell_type": "markdown",
      "source": "### 1.2.4 Пример\nЗадать матрицу размерности 5 на 5 и поменять 2 строки в матрице местами.",
      "metadata": {
        "cell_id": "71214f0cf6d74cf5beed2e73bd04659b",
        "deepnote_cell_type": "markdown"
      }
    },
    {
      "cell_type": "code",
      "metadata": {
        "cell_id": "47338ea9fecb4a92abaf58a5e47272dd",
        "source_hash": "664e5f94",
        "execution_start": 1683304150456,
        "execution_millis": 1,
        "deepnote_to_be_reexecuted": false,
        "deepnote_cell_type": "code"
      },
      "source": "A = np.arange(25).reshape(5,5) # arrange не найден?\nA[[0,1]] = A[[1,0]]\nprint(A)",
      "outputs": [],
      "execution_count": 4
    },
    {
      "cell_type": "markdown",
      "source": "### 1.2.5 Пример\nВыяснить результат следующих выражений",
      "metadata": {
        "cell_id": "2f84b1d7c71340f08754f9aec328c515",
        "deepnote_cell_type": "markdown"
      }
    },
    {
      "cell_type": "code",
      "metadata": {
        "cell_id": "a8fd8c6d213440b29ac021510295088f",
        "source_hash": "3a10351a",
        "execution_start": 1683304150456,
        "execution_millis": 2,
        "deepnote_to_be_reexecuted": false,
        "deepnote_cell_type": "code"
      },
      "source": "print(0 * np.nan)\nprint(np.nan == np.nan)\nprint(np.inf > np.nan)\nprint(np.nan - np.nan)\nprint(0.3 == 3 * 0.1)",
      "outputs": [],
      "execution_count": 5
    },
    {
      "cell_type": "markdown",
      "source": "### 1.2.6 Пример\nОтсортировать массив",
      "metadata": {
        "cell_id": "39a55102cc994d2c938c61d2a5d3dc6d",
        "deepnote_cell_type": "markdown"
      }
    },
    {
      "cell_type": "code",
      "metadata": {
        "cell_id": "d5e0b193b4f1468f9c96d52c7c0e8873",
        "source_hash": "990526a8",
        "execution_start": 1683304150456,
        "execution_millis": 3,
        "deepnote_to_be_reexecuted": false,
        "deepnote_cell_type": "code"
      },
      "source": "arr = np.array([2, 1, 5, 3, 7, 4, 6, 8])\nprint(np.sort(arr))",
      "outputs": [],
      "execution_count": 6
    },
    {
      "cell_type": "markdown",
      "source": "### 1.3.1 Задание\nСоздать 8x8 матрицу и заполнить её в шахматном порядке нулями и единицами",
      "metadata": {
        "cell_id": "880fc1057cae4e92842c9a8cf177fa47",
        "deepnote_cell_type": "markdown"
      }
    },
    {
      "cell_type": "code",
      "metadata": {
        "cell_id": "86245a72adb24c1fb9c434cb5ca2d650",
        "source_hash": "5210cbdb",
        "execution_start": 1683304150460,
        "execution_millis": 4,
        "deepnote_to_be_reexecuted": false,
        "deepnote_cell_type": "code"
      },
      "source": "A = np.zeros((4,4),)\nA[1::2,::2] = 1\nA[0::2,1::2] = 1\nprint(A)",
      "outputs": [],
      "execution_count": 7
    },
    {
      "cell_type": "markdown",
      "source": "### 1.3.2 Задание\nСоздать 5x5 матрицу со значениями в строках от 0 до 4. Для создания необходимо использовать функцию arrange",
      "metadata": {
        "cell_id": "b49f922a6b2b4d97b0b35eeef1746002",
        "deepnote_cell_type": "markdown"
      }
    },
    {
      "cell_type": "code",
      "metadata": {
        "cell_id": "435f079996a74889914d9b108119c942",
        "source_hash": "9b81741d",
        "execution_start": 1683304150466,
        "execution_millis": 4,
        "deepnote_to_be_reexecuted": false,
        "deepnote_cell_type": "code"
      },
      "source": "A = np.zeros((5,5)) # Матрица 5x5 \nA += np.arange(5) # Значение в строках от 0 до 4\nprint(A)",
      "outputs": [],
      "execution_count": 8
    },
    {
      "cell_type": "markdown",
      "source": "### 1.3.3 Задание\nСоздать массив 3x3x3 со случайными значениями",
      "metadata": {
        "cell_id": "1970a38460a24e5a90553ee9e6530664",
        "deepnote_cell_type": "markdown"
      }
    },
    {
      "cell_type": "code",
      "metadata": {
        "cell_id": "35fb54a1ffaa4c41b82e3133af7b22f2",
        "source_hash": "a47360cf",
        "execution_start": 1683304150470,
        "execution_millis": 4,
        "deepnote_to_be_reexecuted": false,
        "deepnote_cell_type": "code"
      },
      "source": "Z = np.random.random((3,3,3))\nprint(Z)",
      "outputs": [],
      "execution_count": 9
    },
    {
      "cell_type": "markdown",
      "source": "### 1.3.4 Задание\nСоздать матрицу с 0 внутри, и 1 на границах",
      "metadata": {
        "cell_id": "d9e029d35eff4a44bb104b1688ecba88",
        "deepnote_cell_type": "markdown"
      }
    },
    {
      "cell_type": "code",
      "metadata": {
        "cell_id": "ed1d37eae5624b5bbc8b218673415851",
        "source_hash": "26c01886",
        "execution_start": 1683304150476,
        "execution_millis": 2,
        "deepnote_to_be_reexecuted": false,
        "deepnote_cell_type": "code"
      },
      "source": "b = np.ones((5, 5))\nb[1:-1, 1:-1] = 0\nprint(b)",
      "outputs": [],
      "execution_count": 10
    },
    {
      "cell_type": "markdown",
      "source": "### 1.3.5 Задание\nСоздайте массив и отсортируйте его по убыванию.",
      "metadata": {
        "cell_id": "2c3fbe4d65c8435ca567bd0ea52b1822",
        "deepnote_cell_type": "markdown"
      }
    },
    {
      "cell_type": "code",
      "metadata": {
        "cell_id": "aa884c79c6f945a59d5db64ea3ddbb8a",
        "source_hash": "c037480",
        "execution_start": 1683304150478,
        "execution_millis": 49,
        "deepnote_to_be_reexecuted": false,
        "deepnote_cell_type": "code"
      },
      "source": "arr = np.arange(1, 10)\nprint(np.sort(arr)[::-1])",
      "outputs": [],
      "execution_count": 11
    },
    {
      "cell_type": "markdown",
      "source": "### ! 1.3.6 Задание\nСоздайте матрицу, выведите ее форму, размер и размерность",
      "metadata": {
        "cell_id": "ebf43ae27eda4058ac498755551e3581",
        "deepnote_cell_type": "markdown"
      }
    },
    {
      "cell_type": "code",
      "metadata": {
        "cell_id": "b9cdd4514ce144088925282508bce8eb",
        "source_hash": "abc60c25",
        "execution_start": 1683304150571,
        "execution_millis": 5044,
        "deepnote_to_be_reexecuted": false,
        "deepnote_cell_type": "code"
      },
      "source": "a = int(input('Введите кол-во строк:'))\nb = int(input('Введите кол-во столбцов:'))\nA = np.zeros((a, b), int)\n\nprint(A)\nprint(np.shape(A)) # форма\nprint(np.size(A)) # размер\nprint(np.ndim(A)) # размерность\n\n'''\nУказания: форма через shape, размер через size, размерность через ndim\n'''",
      "outputs": [],
      "execution_count": 12
    },
    {
      "cell_type": "markdown",
      "source": "### 2.2.1 Пример\nСоздать Series из списка Python, словаря Python, и массива Numpy (установить буквенные метки для последнего)",
      "metadata": {
        "cell_id": "3854a024a3e84eacb9cfb5c132a5c085",
        "deepnote_cell_type": "markdown"
      }
    },
    {
      "cell_type": "code",
      "metadata": {
        "cell_id": "86fa2728d31e482785d25c873e1c01ec",
        "source_hash": "cabcb5e9",
        "execution_start": 1683304155626,
        "execution_millis": 5,
        "deepnote_to_be_reexecuted": false,
        "deepnote_cell_type": "code"
      },
      "source": "import pandas as pd\nlst = [1, 2, 3, 4, 5]\nd = {'a':1, 'b':2, 'c':3}\nndarr = np.array([1, 2, 3, 4, 5])\n\ns1 = pd.Series(lst)\ns2 = pd.Series(d)\ns3 = pd.Series(ndarr, ['a', 'b', 'c', 'd', 'e'])\n\nprint(s1)\nprint(s2)\nprint(s3)",
      "outputs": [],
      "execution_count": 13
    },
    {
      "cell_type": "markdown",
      "source": "### 2.2.2 Пример\nДано два Series. Напечатать их первые элементы и все элементы после третьего (во втором фрейме)",
      "metadata": {
        "cell_id": "45bc2e9ee6ee4acf9da390ce4ecc65dd",
        "deepnote_cell_type": "markdown"
      }
    },
    {
      "cell_type": "code",
      "metadata": {
        "cell_id": "bc33ba4ab933458695fbee2278a201c1",
        "source_hash": "c6273445",
        "execution_start": 1683304155631,
        "execution_millis": 18,
        "deepnote_to_be_reexecuted": false,
        "deepnote_cell_type": "code"
      },
      "source": "s1 = pd.Series([1,2,3,4,5], ['a', 'b', 'c', 'd', 'e'])\ns2 = pd.Series([5, 4, 3, 2, 1])\nprint(s1['a'])\nprint(s2[0])\nprint(s2[3:])",
      "outputs": [],
      "execution_count": 14
    },
    {
      "cell_type": "markdown",
      "source": "### 2.2.3 Пример\nСоздайте новый фрейм данных",
      "metadata": {
        "cell_id": "51565cc929ac44e09eed2a895e954a9d",
        "deepnote_cell_type": "markdown"
      }
    },
    {
      "cell_type": "code",
      "metadata": {
        "cell_id": "2469a13e8cf444ddb11d10d1223dbcae",
        "source_hash": "f51444a0",
        "execution_start": 1683304155681,
        "execution_millis": 42,
        "deepnote_to_be_reexecuted": false,
        "deepnote_cell_type": "code"
      },
      "source": "dataframe = pd.DataFrame()\ndataframe['Имя'] = ['Джеки Джексон', 'Стивен Стивенсон']\ndataframe['Возраст'] = [38, 25]\ndataframe['Водитель'] = [True, False]\ndataframe",
      "outputs": [],
      "execution_count": 15
    },
    {
      "cell_type": "markdown",
      "source": "### 2.2.4 Пример\nЗагрузите фрейм данных по ссылке",
      "metadata": {
        "cell_id": "13491820871f4c45a93114c32cbb734b",
        "deepnote_cell_type": "markdown"
      }
    },
    {
      "cell_type": "code",
      "metadata": {
        "cell_id": "e794c975f911465ca50fadf8ceb88862",
        "source_hash": "5e7f568f",
        "execution_start": 1683304155757,
        "execution_millis": 6,
        "deepnote_to_be_reexecuted": false,
        "deepnote_cell_type": "code"
      },
      "source": "# Создать URL-адрес\nurl = 'https://raw.githubusercontent.com/chrisalbon/simulated_datasets/master/titanic.csv'\n# Загрузить данные\ndataframe = pd.read_csv(url)\n# Показать пять строк\ndataframe.head(5)",
      "outputs": [],
      "execution_count": 16
    },
    {
      "cell_type": "markdown",
      "source": "### 2.2.5 Пример\nПронализировать характеристики фрейма данных",
      "metadata": {
        "cell_id": "8032d5d3c15f4d34bab5beee72b3bea4",
        "deepnote_cell_type": "markdown"
      }
    },
    {
      "cell_type": "code",
      "metadata": {
        "cell_id": "b795f8ae16bc4fd08673b26705798baf",
        "source_hash": "f75554f5",
        "execution_start": 1683304155765,
        "execution_millis": 20,
        "deepnote_to_be_reexecuted": false,
        "deepnote_cell_type": "code"
      },
      "source": "dataframe.head(2) # взглянуть на первые несколько строк\ndataframe.tail(3) # последние строки\ndataframe.shape # кол-во строк и столбцов\ndataframe.describe() # описательная статистика для любых числовых столбцов",
      "outputs": [],
      "execution_count": 17
    },
    {
      "cell_type": "markdown",
      "source": "### 2.2.6 Пример\nВыберите индивидуальные данные или срезы фрейма данных",
      "metadata": {
        "cell_id": "3304adf066fa470390b9d71ee123281c",
        "deepnote_cell_type": "markdown"
      }
    },
    {
      "cell_type": "code",
      "metadata": {
        "cell_id": "be04dc2807af438a9f2c89392b7d0647",
        "source_hash": "e983898",
        "execution_start": 1683304155805,
        "execution_millis": 5,
        "deepnote_to_be_reexecuted": false,
        "deepnote_cell_type": "code"
      },
      "source": "dataframe.iloc[1:4] # для выбора 1 или нескольких строк, либо значений (либо loc)",
      "outputs": [],
      "execution_count": 18
    },
    {
      "cell_type": "markdown",
      "source": "### 2.2.7 Пример\nТребуется отобрать строки фрейма данных на основе некоторого условия. Необходимо сформировать новый фрейм данных из пассажиров первого класса.",
      "metadata": {
        "cell_id": "e4a3148d80ce4f3a9c296989bba6fc83",
        "deepnote_cell_type": "markdown"
      }
    },
    {
      "cell_type": "code",
      "metadata": {
        "cell_id": "96e52009a3da4f70a6b5083e38028ede",
        "source_hash": "7701af55",
        "execution_start": 1683304155812,
        "execution_millis": 28,
        "deepnote_to_be_reexecuted": false,
        "deepnote_cell_type": "code"
      },
      "source": "dataframe[dataframe['PClass'] == '1st'].head(2)",
      "outputs": [],
      "execution_count": 19
    },
    {
      "cell_type": "markdown",
      "source": "### 2.3.1 Задача\nНайдитн евклидово расстояние между двумя Series (точками) a и b, не используя встроенную формулу.",
      "metadata": {
        "cell_id": "5705608c69734946af0c6d2fb39956a2",
        "deepnote_cell_type": "markdown"
      }
    },
    {
      "cell_type": "code",
      "metadata": {
        "cell_id": "a4cbce6ad0e94f2d9d00520727de8571",
        "source_hash": "34833df6",
        "execution_start": 1683304155886,
        "execution_millis": 3,
        "deepnote_to_be_reexecuted": false,
        "deepnote_cell_type": "code"
      },
      "source": "a = np.array((3, 0, 3))\nb = np.array((3, 3, 3))\n\nsquare = np.square(a - b)\nsum_square = np.sum(square)\n\ndistance = np.sqrt(sum_square)\nprint(distance)",
      "outputs": [],
      "execution_count": 20
    },
    {
      "cell_type": "markdown",
      "source": "### 2.3.2 Задача\nНайдите в Интернете ссылку на любой csv файл и сформируйте из него фрейм данных",
      "metadata": {
        "cell_id": "8a238c9fbfd8487199e9094753deb4c1",
        "deepnote_cell_type": "markdown"
      }
    },
    {
      "cell_type": "code",
      "metadata": {
        "cell_id": "79910b217a5e4385955711300b72ae81",
        "source_hash": "ec9f8aee",
        "execution_start": 1683304155886,
        "execution_millis": 36,
        "deepnote_to_be_reexecuted": false,
        "deepnote_cell_type": "code"
      },
      "source": "# Создать URL-адрес\nurl='https://raw.githubusercontent.com/akmand/datasets/main/anneal.csv'\n# Загрузить данные\ndataframe=pd.read_csv(url)\n# Показать семь строк\ndataframe.head(7)",
      "outputs": [],
      "execution_count": 21
    },
    {
      "cell_type": "markdown",
      "source": "### 2.3.3 Задача\nПроделайте с получившемся из предыдущего задания фреймом данных те же действия, что и в примерах 2.2.5-2.2.7.",
      "metadata": {
        "cell_id": "d56b7ab4b4ea4c81a39a73f06149d8c6",
        "deepnote_cell_type": "markdown"
      }
    },
    {
      "cell_type": "code",
      "metadata": {
        "cell_id": "2c32a9b04f5749b48088fbfdd6c3cde2",
        "source_hash": "b3220fe6",
        "execution_start": 1683304183308,
        "execution_millis": 84,
        "deepnote_to_be_reexecuted": false,
        "deepnote_cell_type": "code"
      },
      "source": "url='https://raw.githubusercontent.com/akmand/datasets/main/anneal.csv'\n\ndataframe=pd.read_csv(url)\ndataframe.head(10) # первые 10 строк\ndataframe.tail(3) # последние 3 строки\ndataframe.shape # кол-во строк и столбцов\ndataframe.describe() # описательная статистика для любых числовых столбцов\ndataframe.iloc[1:4] # для выбора 1 или нескольких строк, либо значений\ndataframe[dataframe['steel'] == 'A'].head(5) # новый фрейм из условия",
      "outputs": [],
      "execution_count": 33
    },
    {
      "cell_type": "markdown",
      "source": "### 3.2.1 Пример\nПрошкалируйте числовой признак в диапазон между двумя значениями.",
      "metadata": {
        "cell_id": "0806f10ddf584d48b069e4f2e8424d68",
        "deepnote_cell_type": "markdown"
      }
    },
    {
      "cell_type": "code",
      "metadata": {
        "cell_id": "e709b7d58f3a4dab86a95e1141e345b8",
        "source_hash": "2c09c15b",
        "execution_start": 1683304156019,
        "execution_millis": 1215,
        "deepnote_to_be_reexecuted": false,
        "deepnote_cell_type": "code"
      },
      "source": "from sklearn import preprocessing\n\n# Создать признак\nfeature = np.array([[-500.5], [-100.1], [0], [100.1], [900.9]])\n# Создать шкалировщик\nminmax_scale = preprocessing.MinMaxScaler(feature_range = (0, 1))\n\n# Прошкалировать признак\nscaled_feature = minmax_scale.fit_transform(feature)\n\n# Показать прошкалированный признак\nscaled_feature",
      "outputs": [],
      "execution_count": 23
    },
    {
      "cell_type": "markdown",
      "source": "### 3.2.2 Пример\nПреобразуйте признак, чтобы он имел среднее значение 0 и стандартное отклонение 1",
      "metadata": {
        "cell_id": "b641124d1663444eb2df9ac19ed1f5ff",
        "deepnote_cell_type": "markdown"
      }
    },
    {
      "cell_type": "code",
      "metadata": {
        "cell_id": "0f3c2acdcf07413ab9657b435d64655f",
        "source_hash": "2a93bebc",
        "execution_start": 1683304180373,
        "execution_millis": 12,
        "deepnote_to_be_reexecuted": false,
        "deepnote_cell_type": "code"
      },
      "source": "x = np.array([[-1000.1], [-200.2], [500.5], [600.6], [9000.9]])\n\n# Создать шкалировщик\nscaler = preprocessing.StandardScaler()\n# Преобразовать признак\nstandardized = scaler.fit_transform(x)\n# Показать признак\nstandardized\n\n# Мы можем увидеть эффект стандартизации, обратившись к среднему значению и стандартному отклонению результата нашего решения\nprint(\"Среднее:\", round(standardized.mean()))\nprint(\"Стандартное отклонение:\", standardized.std())",
      "outputs": [],
      "execution_count": 32
    },
    {
      "cell_type": "markdown",
      "source": "### 3.2.3 Пример\nДан фрейм данных. Необходимо масштабировать его числовые столбцы.",
      "metadata": {
        "cell_id": "8413e6e2f3244297b221258417b66514",
        "deepnote_cell_type": "markdown"
      }
    },
    {
      "cell_type": "code",
      "metadata": {
        "cell_id": "9f8e6a6d81e143f7af80972ff7861a61",
        "source_hash": "f8c0141e",
        "execution_start": 1683304168443,
        "execution_millis": 3,
        "deepnote_to_be_reexecuted": false,
        "deepnote_cell_type": "code"
      },
      "source": "from sklearn.preprocessing import MinMaxScaler\nscaler = MinMaxScaler()\ndfTest = pd.DataFrame({'A':[14.00,90.20,90.95,96.27,91.21],\n                       'B':[103.02,107.26,110.35,114.23,114.68],\n                       'C':['big','small','big','small','small']})\n\ndfTest[['A', 'B']] = scaler.fit_transform(dfTest[['A', 'B']])\ndfTest",
      "outputs": [],
      "execution_count": 28
    },
    {
      "cell_type": "markdown",
      "source": "### ! 3.3.2 Задание\nЗагрузить фрейм данных по ссылке. Необходимо выполнить нормализацию первого числового признака (sepal_length_cm) с использованием минимаксного преобразования, а второго (sepal_width_cm) с задействованием z-масштабирования.",
      "metadata": {
        "cell_id": "519d2122c3ef482a9c726decbb3ac3ce",
        "deepnote_cell_type": "markdown"
      }
    },
    {
      "cell_type": "code",
      "metadata": {
        "cell_id": "1fd15b47f6f94370b35683b3297ff5b3",
        "source_hash": "160960cc",
        "execution_start": 1683304186419,
        "execution_millis": 21,
        "deepnote_app_coordinates": {
          "h": 5,
          "w": 12,
          "x": 0,
          "y": 0
        },
        "deepnote_to_be_reexecuted": false,
        "deepnote_cell_type": "code"
      },
      "source": "from sklearn.preprocessing import StandardScaler\ndataframe = pd.read_csv('https://raw.githubusercontent.com/akmand/datasets/master/iris.csv')\n\n# поменяли столбец sepal_length_cm\ndataframe[['sepal_length_cm']] = MinMaxScaler().fit_transform(dataframe[['sepal_length_cm']])\n# поменяли столбец sepal_width_cm\ndataframe[['sepal_width_cm']] = StandardScaler().fit_transform(dataframe[['sepal_width_cm']])\ndataframe\n\n'''\nУказания: не выдернуть столбцы, а поменять строки в таблице\n'''",
      "outputs": [],
      "execution_count": 34
    },
    {
      "cell_type": "markdown",
      "source": "<a style='text-decoration:none;line-height:16px;display:flex;color:#5B5B62;padding:10px;justify-content:end;' href='https://deepnote.com?utm_source=created-in-deepnote-cell&projectId=2480ccc6-6a1b-4590-b704-15c4e752c693' target=\"_blank\">\n<img alt='Created in deepnote.com' style='display:inline;max-height:16px;margin:0px;margin-right:7.5px;' src='data:image/svg+xml;base64,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' > </img>\nCreated in <span style='font-weight:600;margin-left:4px;'>Deepnote</span></a>",
      "metadata": {
        "created_in_deepnote_cell": true,
        "deepnote_cell_type": "markdown"
      }
    }
  ],
  "nbformat": 4,
  "nbformat_minor": 0,
  "metadata": {
    "deepnote": {},
    "kernelspec": {
      "name": "python3",
      "language": "python",
      "display_name": "Python 3"
    },
    "language_info": {
      "name": "python",
      "version": "3.10.4",
      "mimetype": "text/x-python",
      "file_extension": ".py",
      "pygments_lexer": "ipython3",
      "codemirror_mode": {
        "name": "ipython",
        "version": 3
      },
      "nbconvert_exporter": "python"
    },
    "orig_nbformat": 4,
    "deepnote_app_layout": "article",
    "deepnote_full_width": false,
    "deepnote_notebook_id": "2f0795d05b0d4e21aa13072eab6ddbb2",
    "deepnote_persisted_session": {
      "createdAt": "2023-05-05T16:47:31.569Z"
    },
    "deepnote_execution_queue": []
  }
}