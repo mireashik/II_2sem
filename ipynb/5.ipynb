{
  "cells": [
    {
      "cell_type": "markdown",
      "source": "### Рабочая тетрадь No 5",
      "metadata": {
        "cell_id": "57b0280d56954f0db73fbe058fa0e067",
        "deepnote_cell_type": "markdown"
      }
    },
    {
      "cell_type": "markdown",
      "source": "### 1.2.1 Пример\nНеобходимо разработать виртуальную модель процесса обучения. В программе должны быть объекты-ученики, учитель, кладезь знаний.\n\nПотребуется три класса – \"учитель\", \"ученик\", \"данные\". Учитель и ученик во многом похожи, оба – люди. Значит, их классы могут принадлежать одному надклассу \"человек\". Однако в контексте данной задачи у учителя и ученика вряд ли найдутся общие атрибуты. Определим, что должны уметь объекты для решения задачи \"увеличить знания\":\n- Ученик должен уметь брать информацию и превращать ее в свои знания.\n- Учитель должен уметь учить группу учеников.\n- Данные могут представлять собой список знаний. Элементы будут извлекаться по индексу.",
      "metadata": {
        "cell_id": "b26c844e46d94bc08773ccc8b0f48bbd",
        "deepnote_cell_type": "markdown"
      }
    },
    {
      "cell_type": "code",
      "metadata": {
        "cell_id": "62fbb3dca17643d2ae2c52d12fac4d39",
        "source_hash": "a35a4c93",
        "execution_start": 1682672174847,
        "execution_millis": 15,
        "deepnote_to_be_reexecuted": false,
        "deepnote_cell_type": "code"
      },
      "source": "class Data:\n    def __init__(self, *info):\n        self.info = list(info)\n    def __getitem__(self, i):\n        return self.info[i]\n\nclass Teacher:\n    def teach(self, info, *pupil):\n        for i in pupil:\n            i.take(info)\n\nclass Pupil:\n    def __init__(self):\n        self.knowledge = []\n    def take(self, info):\n        self. knowledge.append(info)\n\nlesson = Data('class', 'object', 'inheritance', 'polymorphism', 'encapsulation')\nmarIvanna = Teacher()\nvasy = Pupil()\npety = Pupil()\nmarIvanna.teach(lesson[2], vasy, pety)\nmarIvanna.teach(lesson[0], pety)\nprint(vasy.knowledge)\nprint(pety.knowledge)",
      "outputs": [],
      "execution_count": null
    },
    {
      "cell_type": "markdown",
      "source": "### 1.2.2 Пример\nНапишите программу по следующему описанию. Есть класс \"Воин\". От него создаются два экземпляра-юнита. Каждому устанавливается здоровье в 100 очков. В случайном порядке они бьют друг друга. Тот, кто бьет, здоровья не теряет. У того, кого бьют, оно уменьшается на 20 очков от одного удара. После каждого удара надо выводить сообщение, какой юнит атаковал, и сколько у противника осталось здоровья. Как только у кого-то заканчивается ресурс здоровья, программа завершается сообщением о том, кто одержал победу.",
      "metadata": {
        "cell_id": "7a46ca9b11504d30880f4c570e1159bc",
        "deepnote_cell_type": "markdown"
      }
    },
    {
      "cell_type": "code",
      "metadata": {
        "cell_id": "b5508873d1224051ad1bea1d771d0d74",
        "source_hash": "600604c3",
        "execution_start": 1682672174861,
        "execution_millis": 6461,
        "deepnote_to_be_reexecuted": false,
        "deepnote_cell_type": "code"
      },
      "source": "import random\nclass Warrior:\n    def __init__(self, health):\n        self.health = health\n\n    def hit(self, target, target1):\n        if target.health > 0:\n            target.health -= 20\n        if target1 == warrior1:\n            target1 = \"Warrior1\"\n        if target1 == warrior2:\n            target1 = \"Warrior2\"\n        print(target1, \" has attacked\")\n        print(target.health, \" left\")\n        if target.health == 0:\n            print(target1, \" has won\")\n\nwarrior1 = Warrior(100)\nwarrior2 = Warrior(100)\nq = int(input(\"Enter 1 to attack. Enter 2 to stop program:\"))\n\nwhile q != 2:\n    if q == 1:\n        j = random.randint(1,3)\n        if j % 2 == 0:\n            warrior1.hit(warrior2,warrior1)\n            q = int(input(\"Enter 1 to let some warrior attack:\"))\n        else:\n            warrior2.hit(warrior1, warrior2)\n            q = int(input(\"Enter 1 to let some warrior attack:\"))\n    else:\n        print(\"Wrong input.\")\n        break",
      "outputs": [],
      "execution_count": null
    },
    {
      "cell_type": "markdown",
      "source": "### 1.2.3 Пример\nСоздайте класс по работе с дробями. В классе должна быть\nреализована следующая функциональность:\n- сложение дробей;\n- вычитание дробей;\n- умножение дробей;\n- деление дробей.",
      "metadata": {
        "cell_id": "18b2a7bab5e042b2adb73af994446cde",
        "deepnote_cell_type": "markdown"
      }
    },
    {
      "cell_type": "code",
      "metadata": {
        "cell_id": "29b3fa9706c14e0fb7a062ece0605150",
        "source_hash": "3e1763fc",
        "execution_start": 1682672181369,
        "execution_millis": 1,
        "deepnote_to_be_reexecuted": false,
        "deepnote_cell_type": "code"
      },
      "source": "class Rational:\n\n    @staticmethod\n    def gcd(a,b):\n        while (b != 0):\n            (a,b) = (b, a%b)\n        return a\n\n    @staticmethod\n    def sgn(x):\n        if x>0:\n            return 1\n        elif x<0:\n            return -1\n        else:\n            return 0\n\n    def __init__(self,n,d):\n        if n==0:\n            self.num=0\n            self.den=1\n        else:\n            z=self.sgn(n)*self.sgn(d)\n            n=abs(n)\n            d=abs(d)\n            k=self.gcd(n, d)\n            self.num=z*n//k\n            self.den=d//k\n\n    def __str__(self):\n        if self.num==0:\n            return \"0\"\n        else:\n            return str(self.num)+\"/\"+str(self.den)\n\n    def __add__(self,o):\n        n1=self.num\n        d1=self. den\n        if type(o)==int:\n            n2=0\n            d2=1\n        else:\n            n2=o.num\n            d2=o.den\n        n=n1*d2+n2*d1\n        d=d1*d2\n        return Rational(n,d)\n\n    def __radd__(self,o):\n        n1=self.num\n        d1=self.den\n        if type(o)==int:\n            n2=0\n            d2=1\n        else:\n            n2=o.num\n            d2=o.den\n        n=n1*d2+n2*d1\n        d=d1*d2\n        return Rational(n, d)\n\n    def __sub__(self,o):\n        n1=self.num\n        d1=self. den\n        n2=o.num\n        d2=o.den\n        n=n1*d2-n2*d1\n        d=d1*d2\n        return Rational(n, d)\n\n    def __mul__(self,o):\n        n1=self.num\n        d1=self.den\n        n2=o.num\n        d2=o.den\n        n=n1*n2\n        d=d1*d2\n        return Rational(n, d)\n\n    def __floordiv__(self,o):\n        n1=self.num\n        d1=self.den\n        n2=o.num\n        d2=o.den\n        n=n1*d2\n        d=d1*n2\n        return Rational(n, d)\n\nd1=Rational(1,2)\nd2=Rational(1,3)\nd3=d1+d2\nprint(d3)\nd4=d1-d2\nprint(d4)\nd5=d1*d2\nprint(d5)\nd6=d1*d2\nprint(d6)\nd7=d1//d2\nprint(d7)\nd8=6+d1\nprint(d8)",
      "outputs": [],
      "execution_count": null
    },
    {
      "cell_type": "markdown",
      "source": "### Задание\nСоздайте класс по работе с тригонометрическими функциями. В классе\nдолжны быть реализованы функции вычисления:\n- косинуса;\n- синуса;\n- тангенса;\n- арксинуса;\n- арккосинуса;\n- арктангенса;\n- перевода из градусов в радианы.",
      "metadata": {
        "cell_id": "165b67c2a42b4ea2b499a554ed4bfbd4",
        "deepnote_cell_type": "markdown"
      }
    },
    {
      "cell_type": "code",
      "metadata": {
        "cell_id": "75a9065ad70f40fa83f0a5f3d9174c10",
        "source_hash": "18638956",
        "execution_start": 1682672181369,
        "execution_millis": 36,
        "deepnote_to_be_reexecuted": false,
        "deepnote_cell_type": "code"
      },
      "source": "import numpy as np\nclass trigonom:\n    def sin(self, x):\n        return np.sin(x)\n    def cos(self, x):\n        return np.cos(x)\n    def tg(self, x):\n        return np.tan(x)\n    def arcsin(self, x):\n        if -1 <= x <= 1:\n            return np.arcsin(x)\n        else:\n            return \"Ошибка\"\n    def arccos(self, x):\n        if -1 <= x <= 1:\n            return np.arccos(x)\n        else:\n            return \"Ошибка\"\n    def arctg(self, x):\n        return np.arctan(x)\n    def deg_to_rad(self, x):\n        return x * np.pi / 180\n\n\n'''\nДобавить принт класса\n'''",
      "outputs": [],
      "execution_count": null
    },
    {
      "cell_type": "markdown",
      "source": "### 1.2.1 Пример\nОпределите класс бинарного дерева и задайте его объекты с отдельным атрибутом для каждого из потомков",
      "metadata": {
        "cell_id": "7059125314184a23bb414767727e2b40",
        "deepnote_cell_type": "markdown"
      }
    },
    {
      "cell_type": "code",
      "metadata": {
        "cell_id": "834999c81c0d4e9d9316818e0c6f4923",
        "source_hash": "76d6a461",
        "execution_start": 1682672181403,
        "execution_millis": 2,
        "deepnote_to_be_reexecuted": false,
        "deepnote_cell_type": "code"
      },
      "source": "class Tree:\n    def __init__(self, left, right):\n        self.left = left\n        self.right = right\n\nt = Tree(Tree(\"a\", \"b\"), Tree(\"c\", \"d\"))\nt.right.left",
      "outputs": [],
      "execution_count": null
    },
    {
      "cell_type": "markdown",
      "source": "### 1.2.2 Пример\nДля обозначения отсутствующих потомков можно использовать None (в случае если у узла только один потомок). Само собой, можно комбинировать разные методы (например, использовать списки или множества потомков для каждого узла).\n\nРаспространенный способ реализации деревьев, особенно на языках, не имеющих встроенной поддержки списков, это так называемое представление «первый потомок, следующий брат». В нем каждый узел имеет два «указателя» или атрибута, указывающих на другие узлы, как в бинарном дереве. Однако, первый из этих атрибутов ссылается на первого потомка узла, а второй — на его следующего брата (т.е. узел, имеющий того же родителя, но находящийся правее, — прим. перев). Иными словами, каждый узел дерева имеет указатель на связанный список его потомков, а каждый из этих потомков ссылается на свой собственный аналогичный список. Таким образом, небольшая модификация бинарного дерева даст нам многопутевое дерево, показанное в листинге ниже.",
      "metadata": {
        "cell_id": "2a4980fa9a314e91b9f06ff9936d0294",
        "deepnote_cell_type": "markdown"
      }
    },
    {
      "cell_type": "code",
      "metadata": {
        "cell_id": "31c37b6485664194b585e044cc88711f",
        "source_hash": "77964129",
        "execution_start": 1682672181404,
        "execution_millis": 3,
        "deepnote_to_be_reexecuted": false,
        "deepnote_cell_type": "code"
      },
      "source": "class Tree:\n    def __init__(self, kids, next=None):\n        self.kids = self.val = kids\n        self.next = next\n\nt = Tree(Tree(\"a\", Tree(\"b\", Tree(\"c\", Tree(\"d\")))))\nt.kids.next.next.val",
      "outputs": [],
      "execution_count": null
    },
    {
      "cell_type": "markdown",
      "source": "### Задание\nПредставьте дерево показанное на рисунке с использованием списка из списков. Выведите на печать корень дерева, а также его левое и правое поддеревья\n\n![изображение](https://i.ibb.co/rxm6jGd/1.png)",
      "metadata": {
        "cell_id": "aaf4b54fb0c34657be9b5b22ab97fff4",
        "deepnote_cell_type": "markdown"
      }
    },
    {
      "cell_type": "code",
      "metadata": {
        "cell_id": "e79932aedf2b4e718964ae240821199d",
        "source_hash": "34be4e2f",
        "execution_start": 1682672181417,
        "execution_millis": 29,
        "deepnote_to_be_reexecuted": false,
        "deepnote_cell_type": "code"
      },
      "source": "a = []\nb = []\nc = []\nd = []\ne = []\nf = []\nfor x in range(5):\n    d.append(x)\n    e.append(x)\n    f.append(x)\nb.append(d)\nb.append(e)\nc.append(f)\na.append(b)\na.append(c)\nprint(a)\n\n'''\nЧерез списки в списках\n'''",
      "outputs": [],
      "execution_count": null
    },
    {
      "cell_type": "markdown",
      "source": "### Задание\nДан класс, описывающий бинарное дерево\n\n```c++\nclass Tree:\n    def __init__(self, data):\n        self.left = None\n        self.right = None\n        self.data = data\n    def PrintTree(self):\n        print(self.data)\n```\n\nРеализуйте в классе функцию для вставки нового элемента в дерево по следующим правилам:\n- Левое поддерево узла содержит только узлы со значениями меньше, чем значение в узле.\n- Правое поддерево узла содержит только узлы со значениями меньше, чем значение в узле.\n- Каждое из левого и правого поддеревьев также должно быть бинарным деревом поиска.\n- Не должно быть повторяющихся узлов.\n\nМетод вставки сравнивает значение узла с родительским узлом и решает куда доваить элемент (в левое или правое поддерево). Перепишите, метод PrintTree для печати полной версии дерева.",
      "metadata": {
        "cell_id": "b5b37206ac354c68a77f9ed55d66f34f",
        "deepnote_cell_type": "markdown"
      }
    },
    {
      "cell_type": "code",
      "metadata": {
        "cell_id": "d16996eac1cd4dc0bffb3b905e5b1065",
        "source_hash": "8c522a24",
        "execution_start": 1682672181496,
        "execution_millis": 1,
        "deepnote_to_be_reexecuted": false,
        "deepnote_cell_type": "code"
      },
      "source": "class Tree:\n    def __init__(self, data):\n        self.left = None\n        self.right = None\n        self.data = data\n    \n    def PrintTree(self):\n        if self.left:\n            self.left.PrintTree()\n        print(self.data)\n        if self.right:\n            self.right.PrintTree()\n    \n    def AddElement(self, Element):\n        if self.data:\n            if Element < self.data:\n                if self.left is None:\n                    self.left = Tree(Element)\n                else:\n                    self.left.AddElement(Element)\n            elif Element > self.data:\n                if self.right is None:\n                    self.right = Tree(Element)\n                else:\n                    self.right.AddElement(Element)\n        else:\n            self.data = Element",
      "outputs": [],
      "execution_count": null
    },
    {
      "cell_type": "markdown",
      "source": "### 1.3.1 Пример\nПостроим дерево решений для задачи классификации, для этого, построим границу решения для каждого класса. В качестве данных будем использовать уже знакомый нам и встроенный в библиотеку sklearn набор данных ирисов Фишера. Импортируем библиотеки, набор данных и посмотрим его характеристики",
      "metadata": {
        "cell_id": "70b13f5b49dd424fb3f44b735ef0f5e9",
        "deepnote_cell_type": "markdown"
      }
    },
    {
      "cell_type": "code",
      "metadata": {
        "cell_id": "ab7a69899d4b4e5cb870e5f3c80d7c0d",
        "source_hash": "7072db5b",
        "execution_start": 1682672181496,
        "execution_millis": 2575,
        "deepnote_to_be_reexecuted": false,
        "deepnote_cell_type": "code"
      },
      "source": "import pandas as pd\nimport numpy as np\nimport seaborn as sns\nimport matplotlib.pyplot as plt\n\ndataset = sns.load_dataset('iris')\ndataset\n\ndataset.shape\n\ndataset.head()",
      "outputs": [],
      "execution_count": null
    },
    {
      "cell_type": "markdown",
      "source": "",
      "metadata": {
        "formattedRanges": [],
        "cell_id": "b6e254cb3f694c239a0c44c5adf675e5",
        "deepnote_cell_type": "text-cell-p"
      }
    },
    {
      "cell_type": "markdown",
      "source": "Далее, разделим наши данные на атрибуты и метки, а затем выделим в общей совокупности полученных данных обучающие и тестовые наборы. Таким образом, мы можем обучить наш алгоритм на одном наборе данных, а затем протестировать его на совершенно на другом наборе, который алгоритм еще не видел. Это дает вам более точное представление о том, как на самом деле будет работать ваш обученный алгоритм.",
      "metadata": {
        "cell_id": "b48fdd1de01546b4aecd79bfef8642a5",
        "deepnote_cell_type": "markdown"
      }
    },
    {
      "cell_type": "code",
      "metadata": {
        "cell_id": "03383cc2e9334b1dae15f53265792730",
        "source_hash": "d759f868",
        "execution_start": 1682672184011,
        "execution_millis": 295,
        "deepnote_to_be_reexecuted": false,
        "deepnote_cell_type": "code"
      },
      "source": "from sklearn.model_selection import train_test_split\n\nX_train, X_test, y_train, y_test = train_test_split(\n\n    dataset.iloc[:, :-1],\n    dataset.iloc[:, -1],\n    test_size = 0.20\n)\nX_train.shape, X_test.shape,y_train.shape, y_test.shape\n\nX_train.head()\n\ny_train. head()",
      "outputs": [],
      "execution_count": null
    },
    {
      "cell_type": "markdown",
      "source": "После того, как данные были разделены на обучающие и тестовые наборы, последний шаг состоит в том, чтобы обучить алгоритм дерева решений на этих данных и сделать прогнозы. Scikit-Learn содержит библиотеку tree, которая содержит встроенные классы/методы для различных алгоритмов дерева решений. Поскольку мы собираемся выполнить здесь задачу классификации, мы будем использовать класс DecisionTreeClassifier для этого примера. Метод fit этого класса вызывается для обучения алгоритма на обучающих данных, которые передаются в качестве параметра методу fit. Выполним следующий сценарий для обучения алгоритма.",
      "metadata": {
        "cell_id": "7b1a6b84a9cb4febbc57762818e07904",
        "deepnote_cell_type": "markdown"
      }
    },
    {
      "cell_type": "code",
      "metadata": {
        "cell_id": "243137cc15894f8daf636c33bd1d28a6",
        "source_hash": "d3c3c81a",
        "execution_start": 1682672184292,
        "execution_millis": 486,
        "deepnote_to_be_reexecuted": false,
        "deepnote_cell_type": "code"
      },
      "source": "from sklearn.tree import DecisionTreeClassifier\nclassifier = DecisionTreeClassifier()\nclassifier.fit(X_train, y_train)\n\n#построим делево решений\nfrom sklearn import tree\ntree.plot_tree(classifier)",
      "outputs": [],
      "execution_count": null
    },
    {
      "cell_type": "markdown",
      "source": "Теперь, когда наш классификатор обучен, давайте сделаем прогнозы по тестовым данным. Для составления прогнозов используется метод predict класса Decision Tree Classifier. Взгляните на следующий код для использования.",
      "metadata": {
        "cell_id": "22fe0dc5a64b4c5a8e5f99709d43404e",
        "deepnote_cell_type": "markdown"
      }
    },
    {
      "cell_type": "code",
      "metadata": {
        "cell_id": "752bdc8d9ae547e39227295aebb599e0",
        "source_hash": "8261d872",
        "execution_start": 1682672185859,
        "execution_millis": 12,
        "deepnote_to_be_reexecuted": false,
        "deepnote_cell_type": "code"
      },
      "source": "y_pred = classifier.predict(X_test)\ny_pred",
      "outputs": [],
      "execution_count": null
    },
    {
      "cell_type": "markdown",
      "source": "На данный момент мы обучили наш алгоритм и сделали некоторые прогнозы. Теперь посмотрим, насколько точен наш алгоритм. Для задач классификации обычно используются такие метрики, как матрица путаницы, точность. Библиотека Scikit-Learn metrics содержит методы classification_report и confusion_matrix, которые могут быть использованы для расчета этих метрик.",
      "metadata": {
        "cell_id": "29b2b8ea9ecd464a931d05db81f6d7c5",
        "deepnote_cell_type": "markdown"
      }
    },
    {
      "cell_type": "code",
      "metadata": {
        "cell_id": "b4e71fad2f1641d39b2a234e9cfd24ad",
        "source_hash": "9c37a382",
        "execution_start": 1682672185872,
        "execution_millis": 67,
        "deepnote_to_be_reexecuted": false,
        "deepnote_cell_type": "code"
      },
      "source": "from sklearn.metrics import classification_report, confusion_matrix\nprint(confusion_matrix(y_test, y_pred))\nprint(classification_report(y_test, y_pred))",
      "outputs": [],
      "execution_count": null
    },
    {
      "cell_type": "markdown",
      "source": "Из матрицы оценок алгоритма вы можете видеть, что из 30 тестовых экземпляров наш алгоритм неправильно классифицировал только 3. Это приблизительно 91 % точности.",
      "metadata": {
        "cell_id": "6cf03286c0c84fb984d8f3885c1e941f",
        "deepnote_cell_type": "markdown"
      }
    },
    {
      "cell_type": "markdown",
      "source": "### Задание (1.3.1)\nПостройте классификатор на основе дерева принятия решений следующего датасета",
      "metadata": {
        "cell_id": "389a1a3a882c42c0a288dfecc520e5d0",
        "deepnote_cell_type": "markdown"
      }
    },
    {
      "cell_type": "code",
      "metadata": {
        "cell_id": "4e45d762eb35401a8eb18399c239f1ca",
        "source_hash": "d0c83d98",
        "execution_start": 1682672212088,
        "execution_millis": 573,
        "deepnote_to_be_reexecuted": false,
        "deepnote_cell_type": "code"
      },
      "source": "# данные\nX_test = np.array([[-1, -1], [-2, -1], [-3, -2], [1, 1], [2, 1], [3, 2]])\ny_train = [0, 0, 0, 1, 1, 1]\n\nX_test.shape\n\nclassifier = DecisionTreeClassifier()\nclassifier.fit(X_test,y_train)\n\ntree.plot_tree(classifier)\n\ny_pred = classifier.predict(X_test)\ny_pred\n\nprint(confusion_matrix(y_pred,y_train))\nprint(classification_report(y_pred,y_train))",
      "outputs": [],
      "execution_count": null
    },
    {
      "cell_type": "markdown",
      "source": "### 1.4.1 Пример\nПостойте регрессию с использованием дерева решений, реализованного в Python.",
      "metadata": {
        "cell_id": "175f90bfc4b14e8eb87911194ed2dfe1",
        "deepnote_cell_type": "markdown"
      }
    },
    {
      "cell_type": "code",
      "metadata": {
        "cell_id": "f0b0074c6b31424896ae21aaca100a8a",
        "source_hash": "4633f0bf",
        "execution_start": 1682672216426,
        "execution_millis": 498,
        "deepnote_to_be_reexecuted": false,
        "deepnote_cell_type": "code"
      },
      "source": "import pandas as pd\nimport numpy as np\nimport matplotlib.pyplot as plt\n\nurl = 'https://raw.githubusercontent.com/AnnaShestova/salary-years-simple-linear-regression/master/Salary_Data.csv'\ndataset = pd.read_csv(url)\ndataset.head()\n\n#Исследуем набор данных\nprint(dataset.shape)\ndataset.describe()\n\n# Нарисуем точечную диаграмму\nplt.scatter (dataset['YearsExperience'], dataset['Salary'], color = 'b', label = \"Заработная плата\")\nplt.xlabel(\"Опыт(лет)\")\nplt.ylabel(\"Заработная плата\")\nplt.show()\n\nfrom sklearn.tree import DecisionTreeRegressor\nX = dataset.iloc[:, :-1].values\ny = dataset.iloc[:, 1].values\nprint(X)\nprint(y)\n\n# Теперь, когда у нас есть атрибуты и метки, необходимо разделить их на а обучающий и тестовый наборы.\n# Приведенный фрагмент разделяет 80% данных на обучающий набор, а 20% данных - на набор тестов\nX_train, X_test, y_train, y_test = train_test_split(X, y, test_size = 0.2, random_state = 0)\n\n# далее можно обучить алгоритм линейной регрессии\n# необходимо импортировать класс LinearRegression, создать его экземпляр и вызвать метод fit()\nregressor = DecisionTreeRegressor()\nregressor.fit(X_train, y_train)\n\nfrom sklearn import tree\ntree.plot_tree(regressor)\n\n#Построим прогноз:\ny_pred = regressor.predict(X_test)\ny_pred\n\n#Теперь сравним некоторые из наших прогнозируемых значений с фактическими значениями:\ndf=pd.DataFrame({'Actual':y_test, 'Predicted':y_pred})\ndf\n\n#Расчитаем среднюю абсолютную и среднеквадратичную ошибку регрессии:\nfrom sklearn import metrics\nprint('Mean Squared Error:', metrics.mean_squared_error(y_test, y_pred))\nprint('Mean Absolute Error:', metrics.mean_absolute_error(y_test, y_pred))\n\nmetrics.mean_absolute_error(y_test, y_pred) / np.average(y) * 100",
      "outputs": [],
      "execution_count": null
    },
    {
      "cell_type": "markdown",
      "source": "Средняя абсолютная ошибка для нашего алгоритма составляет 4120.66, что составляет менее 6 процентов от среднего значения всех значений в столбце.",
      "metadata": {
        "cell_id": "8f01bd2f66514f2692b0b84525f61a2f",
        "deepnote_cell_type": "markdown"
      }
    },
    {
      "cell_type": "markdown",
      "source": "### Задание (1.4.1)\nЗадание. Постройте модель регрессии для данных из предыдущей рабочей тетради.Для примера можно взять потребления газа (в миллионах галлонов) в 48 штатах США или набор данных о качестве красного вина:\n\nhttps://raw.githubusercontent.com/likarajo/petrol_consumption/master/data/petrol_consumption.csv\n\nhttps://raw.githubusercontent.com/aniruddhachoudhury/Red-Wine-Quality/master/winequality-red.csv\n\nПостройте прогноз. Оцените точность модели.",
      "metadata": {
        "cell_id": "118d84737ce848928c752007dd118952",
        "deepnote_cell_type": "markdown"
      }
    },
    {
      "cell_type": "code",
      "metadata": {
        "cell_id": "4d5ea54d9e314d09855d4a54fef8921e",
        "source_hash": "16b422a7",
        "execution_start": 1682672413227,
        "execution_millis": 2144,
        "deepnote_to_be_reexecuted": false,
        "deepnote_cell_type": "code"
      },
      "source": "url = 'https://raw.githubusercontent.com/likarajo/petrol_consumption/master/data/petrol_consumption.csv'\ndataframe = pd.read_csv(url)\ndataframe.head()\ndataframe.describe()\n\n# Нарисуем точечную диаграмму\ndataframe.plot(x=\"Petrol_tax\",y=['Paved_Highways','Petrol_Consumption','Population_Driver_licence(%)'],kind=\"bar\")\nplt.xlabel(\"Штаты\")\nplt.ylabel(\"Потребление бензина\")\nplt.show()\n\nX = dataframe[['Average_income','Population_Driver_licence(%)','Petrol_Consumption']]\ny = dataframe['Petrol_tax']\nprint(X)\nprint(y)\n\n# Теперь, когда у нас есть атрибуты и метки, необходимо разделить их на а обучающий и тестовый наборы.\n# Приведенный фрагмент разделяет 80% данных на обучающий набор, а 20% данных - на набор тестов\nX_train, X_test, y_train, y_test = train_test_split(X, y, test_size = 0.2, random_state = 0)\n\n# далее можно обучить алгоритм линейной регрессии\n# необходимо импортировать класс LinearRegression, создать его экземпляр и вызвать метод fit()\nregressor = DecisionTreeRegressor()\nregressor.fit(X_train, y_train)\n\nfrom sklearn import tree\ntree.plot_tree(regressor)\n\n#Построим прогноз:\ny_pred = regressor.predict(X_test)\ny_pred\n\n#Теперь сравним некоторые из наших прогнозируемых значений с фактическими значениями:\ndf=pd.DataFrame({'Actual':y_test, 'Predicted':y_pred})\ndf\n\n#Расчитаем среднюю абсолютную и среднеквадратичную ошибку регрессии:\nprint('Mean Squared Error:', metrics.mean_squared_error(y_test, y_pred))\nprint('Mean Absolute Error:', metrics.mean_absolute_error(y_test, y_pred))\n\nmetrics.mean_absolute_error(y_test, y_pred) / np.average(y) * 100",
      "outputs": [],
      "execution_count": null
    },
    {
      "cell_type": "markdown",
      "source": "<a style='text-decoration:none;line-height:16px;display:flex;color:#5B5B62;padding:10px;justify-content:end;' href='https://deepnote.com?utm_source=created-in-deepnote-cell&projectId=2480ccc6-6a1b-4590-b704-15c4e752c693' target=\"_blank\">\n<img alt='Created in deepnote.com' style='display:inline;max-height:16px;margin:0px;margin-right:7.5px;' src='data:image/svg+xml;base64,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' > </img>\nCreated in <span style='font-weight:600;margin-left:4px;'>Deepnote</span></a>",
      "metadata": {
        "created_in_deepnote_cell": true,
        "deepnote_cell_type": "markdown"
      }
    }
  ],
  "nbformat": 4,
  "nbformat_minor": 0,
  "metadata": {
    "deepnote": {},
    "orig_nbformat": 2,
    "deepnote_full_width": true,
    "deepnote_notebook_id": "d2bee2f478514d9bb33e68f08bd97a92",
    "deepnote_persisted_session": {
      "createdAt": "2023-04-28T09:16:51.879Z"
    },
    "deepnote_execution_queue": []
  }
}