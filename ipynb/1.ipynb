{
  "cells": [
    {
      "cell_type": "markdown",
      "source": "### 1.2 Пример\nВыведите на печать и определите тип переменной",
      "metadata": {
        "cell_id": "040c5aea8de848ef8c67e6de9402a970",
        "deepnote_cell_type": "markdown"
      }
    },
    {
      "cell_type": "code",
      "metadata": {
        "cell_id": "bdafe8e42c154dbbad66bf30e6a8b559",
        "source_hash": "2386ed1c",
        "execution_start": 1682412883410,
        "execution_millis": 2,
        "deepnote_to_be_reexecuted": false,
        "deepnote_cell_type": "code"
      },
      "source": "x = 3+5.2*7\ny = None\nz = 'a', 5, 12.345, (2, 'b')\ndf = [['Антонова Антонина', 34, 'ж'], ['Борисов Борис', 26, 'м']]\nA = {1, 'title', 2, 'content'}\n\nprint(x, '|', type(x), '\\n', y, '|', type(y), '\\n',\n      z, '|', type(z), '\\n', df, '|', type(df), '\\n', A, '|', type(A))",
      "outputs": [],
      "execution_count": 1
    },
    {
      "cell_type": "markdown",
      "source": "### 1.3 Задание\nВыведите на печать и определите тип переменной",
      "metadata": {
        "cell_id": "e06cba72289044098d1b34ed20a87b5f",
        "deepnote_cell_type": "markdown"
      }
    },
    {
      "cell_type": "code",
      "metadata": {
        "cell_id": "157353cac41b4c5e917b74d1825f342b",
        "source_hash": "401cc82a",
        "execution_start": 1682412883466,
        "execution_millis": 7,
        "deepnote_to_be_reexecuted": false,
        "deepnote_cell_type": "code"
      },
      "source": "x = 5 >= 2\nA = {1, 3, 7, 8}\nB = {2, 4, 5, 10, 'apple'}\nC = A & B\ndf = 'Антонова Антонина', 34, 'ж'\nz = 'type'\nD = [1, 'title', 2, 'content']\n\nprint(x, '|', type(x), '\\n', A, '|', type(A), '\\n', B, '|', type(B), '\\n', C, '|', type(C), '\\n',\n      df, '|', type(df), '\\n', z, '|', type(z), '\\n', D, '|', type(D))",
      "outputs": [],
      "execution_count": 2
    },
    {
      "cell_type": "markdown",
      "source": "### 2.2 Пример\nВывести на экран является ли переменная х положительной, отрицательной или равна нулю",
      "metadata": {
        "cell_id": "3b0e8088abcc493cb6526b31d5db401e",
        "deepnote_cell_type": "markdown"
      }
    },
    {
      "cell_type": "code",
      "metadata": {
        "cell_id": "4e3f1ca0433d4c8393e1f2d2ea5c8105",
        "source_hash": "2d56890e",
        "execution_start": 1682412883467,
        "execution_millis": 26,
        "deepnote_to_be_reexecuted": false,
        "deepnote_cell_type": "code"
      },
      "source": "x = 125\nif x<0:\n    print(\"x отрицательный\")\nelif x==0:\n    print(\"x равен нулю\")\nelse:\n    print(\"x положительный\")",
      "outputs": [],
      "execution_count": 3
    },
    {
      "cell_type": "markdown",
      "source": "### 2.3 Задание\nНапишите код. Задается х, напечатать какому из интервалов принадлежит: (-infinity, -5), [-5, 5] или от (5, +infinity",
      "metadata": {
        "cell_id": "8056d1e99a564c67a3d098b4e591b2a0",
        "deepnote_cell_type": "markdown"
      }
    },
    {
      "cell_type": "code",
      "metadata": {
        "cell_id": "af17580e8f684dc889c67fe582cd2f62",
        "source_hash": "70816763",
        "execution_start": 1682412883485,
        "execution_millis": 96873,
        "deepnote_to_be_reexecuted": false,
        "deepnote_cell_type": "code"
      },
      "source": "print('x: ')\nx = int(input())\nif x < -5:\n    print('(-infinity, -5)')\nelif -5 <= x <= 5:\n    print('[-5, 5]')\nelse:\n    print('(5, +infinity)')",
      "outputs": [],
      "execution_count": 4
    },
    {
      "cell_type": "markdown",
      "source": "### 3.2.1 Пример\nВывести все числа от 1 до 10 с шагом 3",
      "metadata": {
        "cell_id": "b7236e5e50b74b418401e465172dc29f",
        "deepnote_cell_type": "markdown"
      }
    },
    {
      "cell_type": "code",
      "metadata": {
        "cell_id": "4608a4e2626f4c74a94035f970017813",
        "source_hash": "eb201f6",
        "execution_start": 1682412980356,
        "execution_millis": 2,
        "deepnote_to_be_reexecuted": false,
        "deepnote_cell_type": "code"
      },
      "source": "x = 1\nwhile x <= 10:\n    print(x)\n    x += 3",
      "outputs": [],
      "execution_count": 5
    },
    {
      "cell_type": "markdown",
      "source": "### 3.2.2 Пример\nЗадан список. Напечатать все элементы списка\n",
      "metadata": {
        "cell_id": "d73113d89f0945b89285b723524ce2be",
        "deepnote_cell_type": "markdown"
      }
    },
    {
      "cell_type": "code",
      "metadata": {
        "cell_id": "16a9f041583e47d48c0e660787ebce62",
        "source_hash": "8c7401ac",
        "execution_start": 1682412980357,
        "execution_millis": 2,
        "deepnote_to_be_reexecuted": false,
        "deepnote_cell_type": "code"
      },
      "source": "models = ['KNN', 'decision tree', 'linear model']\nfor model in models:\n    print(model)",
      "outputs": [],
      "execution_count": 6
    },
    {
      "cell_type": "markdown",
      "source": "### 3.2.3 Пример\nСоздать список от 1 до 99 с шагом 7",
      "metadata": {
        "cell_id": "1119a5b40dcd4ba887471e6ac2bc5864",
        "deepnote_cell_type": "markdown"
      }
    },
    {
      "cell_type": "code",
      "metadata": {
        "cell_id": "a11a375f38f64152ae78e1930251fe9d",
        "source_hash": "5b9b48d8",
        "execution_start": 1682412980357,
        "execution_millis": 18,
        "deepnote_to_be_reexecuted": false,
        "deepnote_cell_type": "code"
      },
      "source": "list_int = range(1, 100, 7)\nprint(list(list_int))",
      "outputs": [],
      "execution_count": 7
    },
    {
      "cell_type": "markdown",
      "source": "### 3.2.4 Пример\nВывести на экран числа от 1 до 105 с шагом 25, используя функцию range()",
      "metadata": {
        "cell_id": "b94a7f489d8f4da188763223e20684ca",
        "deepnote_cell_type": "markdown"
      }
    },
    {
      "cell_type": "code",
      "metadata": {
        "cell_id": "063afb180bcd44d9ab680893d2fd81a8",
        "source_hash": "dff6da7a",
        "execution_start": 1682412980374,
        "execution_millis": 0,
        "deepnote_to_be_reexecuted": false,
        "deepnote_cell_type": "code"
      },
      "source": "for i in range(5, 106, 25):\n    print(i)",
      "outputs": [],
      "execution_count": 8
    },
    {
      "cell_type": "markdown",
      "source": "### 3.2.5 Пример\nНеобходимо получить каждый k-й элемент массива a, начиная с элемента с индексом i (включительно) и заканчивая элементом с индексом j (не включительно), c шагом 2. Или переставить все элементы в обратном порядке.",
      "metadata": {
        "cell_id": "d09f57e67e5c40e2920463d3cfcb1ea4",
        "deepnote_cell_type": "markdown"
      }
    },
    {
      "cell_type": "code",
      "metadata": {
        "cell_id": "10e88c03d01244b7b1dff75a3eabe542",
        "source_hash": "6a78b1e",
        "execution_start": 1682412980374,
        "execution_millis": 1,
        "deepnote_to_be_reexecuted": false,
        "deepnote_cell_type": "code"
      },
      "source": "a = [1, 2, 3, 4, 5, 6, 7, 8 ,9]\nb = a[1:7:2]\nc = a[::-1]\nprint(b)\nprint(c)",
      "outputs": [],
      "execution_count": 9
    },
    {
      "cell_type": "markdown",
      "source": "### 3.3.1 Задание\nВыведите числа из примера на while (3.2.1) в обратном порядке",
      "metadata": {
        "cell_id": "6b51f6b8a691443a95cb79cc8974b495",
        "deepnote_cell_type": "markdown"
      }
    },
    {
      "cell_type": "code",
      "metadata": {
        "cell_id": "a7c0ba1d70c4438a9639a1677b9642c6",
        "source_hash": "817790c7",
        "execution_start": 1682412980393,
        "execution_millis": 1,
        "deepnote_to_be_reexecuted": false,
        "deepnote_cell_type": "code"
      },
      "source": "x = 10\nwhile x >= 1:\n    print(x)\n    x -= 3",
      "outputs": [],
      "execution_count": 10
    },
    {
      "cell_type": "markdown",
      "source": "### 3.3.2 Задание\nПри решении задач машинного обучения часто в качестве объектов исследования выступает человек. Создайте список значимых характеристик (признаков)\n",
      "metadata": {
        "cell_id": "c58ede97488d48a4b0571d82514ba63a",
        "deepnote_cell_type": "markdown"
      }
    },
    {
      "cell_type": "code",
      "metadata": {
        "cell_id": "b6929b66ba714946b4291df1c12067b9",
        "source_hash": "a8e5279c",
        "execution_start": 1682412980394,
        "execution_millis": 2,
        "deepnote_to_be_reexecuted": false,
        "deepnote_cell_type": "code"
      },
      "source": "print(['рост', 'вес', 'пол'])",
      "outputs": [],
      "execution_count": 11
    },
    {
      "cell_type": "markdown",
      "source": "### 3.3.3 Задание\nСоздать список чисел от 2 до 15 с шагом 1.",
      "metadata": {
        "cell_id": "b0749bcdc1d04dcfaa7ac96383e0a66b",
        "deepnote_cell_type": "markdown"
      }
    },
    {
      "cell_type": "code",
      "metadata": {
        "cell_id": "c6d5c6b7ea024c40b6a4f7b4fe51edc8",
        "source_hash": "763ee53b",
        "execution_start": 1682412980393,
        "execution_millis": 43,
        "deepnote_to_be_reexecuted": false,
        "deepnote_cell_type": "code"
      },
      "source": "a = []\nfor i in range(2, 16, 2):\n    a.append(i)\nprint(a)",
      "outputs": [],
      "execution_count": 12
    },
    {
      "cell_type": "markdown",
      "source": "### 3.3.4 Задание\nВыведите числа из примера на for c функцией range() (3.2.4) в обратном порядке",
      "metadata": {
        "cell_id": "c96bafd962494a8b9ee81430813d799c",
        "deepnote_cell_type": "markdown"
      }
    },
    {
      "cell_type": "code",
      "metadata": {
        "cell_id": "79ba90bee8d647b88e53f019257913bb",
        "source_hash": "76cc119b",
        "execution_start": 1682412980436,
        "execution_millis": 1,
        "deepnote_to_be_reexecuted": false,
        "deepnote_cell_type": "code"
      },
      "source": "for i in range(105, 4, -25):\n    print(i)",
      "outputs": [],
      "execution_count": 13
    },
    {
      "cell_type": "markdown",
      "source": "### 3.3.5 Задание\nСрез. Напишите код, который все элементы массива x с четными индексами переставит в обратном порядке",
      "metadata": {
        "cell_id": "2db1744a9d1f4137b1e7b0cfea780a96",
        "deepnote_cell_type": "markdown"
      }
    },
    {
      "cell_type": "code",
      "metadata": {
        "cell_id": "429bc49e5c414a70a3670f4660b75a07",
        "source_hash": "15efef08",
        "execution_start": 1682412980463,
        "execution_millis": 92,
        "deepnote_to_be_reexecuted": false,
        "deepnote_cell_type": "code"
      },
      "source": "x = [0, 1, 2, 3, 4, 5, 6, 7, 8, 9]\nx[0::2] = reversed(x[0::2])\nprint(x)",
      "outputs": [],
      "execution_count": 14
    },
    {
      "cell_type": "markdown",
      "source": "### 4.2.1 Пример\nРассчитать синус от е радиан и вывести результат на экран",
      "metadata": {
        "cell_id": "a13fe2149c0447e1863075bd4a065935",
        "deepnote_cell_type": "markdown"
      }
    },
    {
      "cell_type": "code",
      "metadata": {
        "cell_id": "b9822632617847e5a870649ea24baa18",
        "source_hash": "95f4b3fa",
        "execution_start": 1682412980514,
        "execution_millis": 41,
        "deepnote_to_be_reexecuted": false,
        "deepnote_cell_type": "code"
      },
      "source": "import math as m\nprint(m.sin (m.e))",
      "outputs": [],
      "execution_count": 15
    },
    {
      "cell_type": "markdown",
      "source": "### 4.2.2 Пример\nДля функции sin(𝑥𝑒 cos(𝑥)) на интервале [0;10] с шагом 0,05 построить график функции, закрасить площадь под ним и вычислить значение",
      "metadata": {
        "cell_id": "8510b08ca75e4196a2cd7e91cefd1270",
        "deepnote_cell_type": "markdown"
      }
    },
    {
      "cell_type": "code",
      "metadata": {
        "cell_id": "6829338468d441eda1ea3f50170615bf",
        "source_hash": "1bbc9a4d",
        "execution_start": 1682412980514,
        "execution_millis": 2176,
        "deepnote_to_be_reexecuted": false,
        "deepnote_cell_type": "code"
      },
      "source": "import numpy as np\nimport matplotlib.pyplot as plt\n\n# Для вычисления площади воспользуйте функции trapz(), вычисляющей интеграл по правилу трапеции.\nfrom scipy.integrate import simps\nfrom numpy import trapz\nx = np.arange(0.0, 10, 0.1)\ny = np.abs(np.sin(x*np.exp(np.cos(x))))\nplt.grid()\nplt.plot(x, y, c = \"r\")\nplt.fill_between(x, y)\n\nprint(trapz(y))",
      "outputs": [],
      "execution_count": 16
    },
    {
      "cell_type": "markdown",
      "source": "### 4.2.3 Пример\nДано некоторое распределение оценок в группе за экзамен. Нарисовать круговую и точечную диаграммы распределения",
      "metadata": {
        "cell_id": "6dde7e124aa547f5abd499782edb6a65",
        "deepnote_cell_type": "markdown"
      }
    },
    {
      "cell_type": "code",
      "metadata": {
        "cell_id": "3ecc70d85b384092bed83bd1c5e361c3",
        "source_hash": "3c4d9b45",
        "execution_start": 1682412982692,
        "execution_millis": 363,
        "deepnote_to_be_reexecuted": false,
        "deepnote_cell_type": "code"
      },
      "source": "from matplotlib import pyplot as plt\nimport numpy as np\n\nmarks = ['Неуд', 'Удовл', 'Хор', 'Отл']\n\ndata = [3, 7, 8, 4]\nfig = plt.figure(figsize=(10, 7)) # Размер диаграммы\nplt.pie(data, labels = marks)\nplt.show()\nplt.grid()\nplt.scatter(marks, data)",
      "outputs": [],
      "execution_count": 17
    },
    {
      "cell_type": "markdown",
      "source": "### 4.3.1 Задание\nСравните результаты, какие выводы можно сделать о значениях? Постройте точечную диаграмму рассения полученного ряда",
      "metadata": {
        "cell_id": "4941c78119c14a4881fe9c68cfc8eb0c",
        "deepnote_cell_type": "markdown"
      }
    },
    {
      "cell_type": "code",
      "metadata": {
        "cell_id": "d35f03c4814c4f189a1162ab15d33a60",
        "source_hash": "14e924f",
        "execution_start": 1682412983332,
        "execution_millis": 261,
        "deepnote_to_be_reexecuted": false,
        "deepnote_cell_type": "code"
      },
      "source": "import random\nimport statistics\nx = [random.random() for i in range(10)] # Задайте массив случайных значений из интервала(0; 1)\nmedium = sum(x) / len(x) # Средние значения для массива\nmedian = statistics.median(x) # Медианные значения для массива\n\nfig, compare = plt.subplots(figsize = (10, 6))\ncompare.scatter(x, x)\nplt.show()",
      "outputs": [],
      "execution_count": 18
    },
    {
      "cell_type": "markdown",
      "source": "### 4.3.2 Задание\nДана функция. Создать массив из 10 значений функции (x, например, изменяется от 1 до 10). Выделить срез первой половины массива и построить графики для основного массива – линейный и для среза – точечный",
      "metadata": {
        "cell_id": "82f64a5db48c4f9584594063c7e94786",
        "deepnote_cell_type": "markdown"
      }
    },
    {
      "cell_type": "code",
      "metadata": {
        "cell_id": "0027215778a64970aa779e9839106229",
        "source_hash": "f9a67582",
        "execution_start": 1682413016014,
        "execution_millis": 561,
        "deepnote_to_be_reexecuted": false,
        "deepnote_cell_type": "code"
      },
      "source": "from matplotlib import pyplot as plt\nimport math\n\nfunction = []\nfor x in range(1,11): # Создать массив из 10 значений функции\n      function.append((math.sqrt(1 + math.e ** math.sqrt(x) + math.cos(x**2)))/abs(1- (math.sin(x))**3)) # Дана функция\nnewfunction = function[:5] # Срез первой половины массива\nplt.plot(function) # Линейный график\nplt.show()\nfig, ax = plt.subplots(figsize=(10, 6)) # Точечный график\nax.scatter(newfunction, newfunction)\nplt.show()",
      "outputs": [],
      "execution_count": 24
    },
    {
      "cell_type": "markdown",
      "source": "### 4.3.3 Задание\nДана функция. Построить график на интервале (0,10) с шагом 1 с заливкой площади и найти эту площадь под ним. Для вычисления площади воспользуйте функции trapz() вычисляющей интеграл по правилу трапеции. Для ее корректной работы необходимо подключить следующие библиотеки:",
      "metadata": {
        "cell_id": "7a5a38c9beff4da0a7217e91b8205a0c",
        "deepnote_cell_type": "markdown"
      }
    },
    {
      "cell_type": "code",
      "metadata": {
        "cell_id": "b853b824a17e4d42af4424924634c080",
        "source_hash": "c49c6c93",
        "execution_start": 1682413026275,
        "execution_millis": 386,
        "deepnote_to_be_reexecuted": false,
        "deepnote_cell_type": "code"
      },
      "source": "from numpy import trapz\nimport numpy as np\n\nx = np.arange(0.0, 10)  # Построить график на интервале (0,10) с шагом 1\ny = np.abs(np.cos(x * np.exp(np.cos(x) + np.log(x+1)))) # Дана функция\n\nplt.grid()\nplt.plot(x, y, c = 'r')\nplt.fill_between(x,y)\nplt.show()\n\nprint(trapz(y)) # Вычисление площади ",
      "outputs": [],
      "execution_count": 25
    },
    {
      "cell_type": "markdown",
      "source": "### ! 4.3.4 Задание\nОткройте статистические данные по стоимости акций Apple, Microsoft, Google за 12 месяцев 2021 г. Постройте 3 графика на плоскости и оцените их динамику. Подумайте, как можно улучшить читаемость результатов. Для начальных данных допустимо использовать следующий ресурс: https://finance.yahoo.com",
      "metadata": {
        "cell_id": "43b1c095d0f84e9ca35d0a39bfda800f",
        "deepnote_cell_type": "markdown"
      }
    },
    {
      "cell_type": "code",
      "metadata": {
        "cell_id": "a8ec8d9c626f48dbba763a1d831728c6",
        "source_hash": "7aaecc26",
        "execution_start": 1682413104802,
        "execution_millis": 474,
        "deepnote_to_be_reexecuted": false,
        "deepnote_cell_type": "code"
      },
      "source": "from matplotlib import pyplot as plt\nApple = [131.96, 124.61, 136.96, 124.47, 152.83, 167.29, 170.34, 165.12, 174.01, 156.71, 148.8, 136.72, 149.9]\nMicrosoft = [222.53, 235.06, 235.90, 238.47, 254.40, 251.21, 269.51, 286.36, 302.87, 282.12, 331.36, 335.15, 310.41]\nGoogle = [87.8, 96.2, 102.3, 104.90, 120.14, 121.10, 124.85, 135.48, 145.65, 133.55, 148.16, 144.21, 144.48]\n\nplt.plot(Apple, label='Apple')\nplt.plot(Microsoft, label='Microsoft')\nplt.plot(Google, label='Google')\nplt.legend() # вывод всех label\nplt.grid() # добавление сетки\nplt.xlabel('Месяцы 2021 года')\nplt.ylabel('Стоимость акций')\nplt.show()\n\n'''\nУказания: подписать графики осей, и не делать рандомные значения (реально с сайта взять)\n'''",
      "outputs": [],
      "execution_count": 29
    },
    {
      "cell_type": "markdown",
      "source": "### ! 4.3.5 Задание\nСоздайте простейший калькулятор, включающий основные действия для двух переменных ′ + ′, ′ − ′, ′ ∙ ′, ′ ÷ ′, а также вычисление следующих функций: e^(x+y), sin(x + y), cos(x + y) , x^y",
      "metadata": {
        "cell_id": "7a8c152939914fd6960789fec6a1ecd4",
        "deepnote_cell_type": "markdown"
      }
    },
    {
      "cell_type": "code",
      "metadata": {
        "cell_id": "0e78c13f29e3411e804f46022b6547ba",
        "source_hash": "da3001b9",
        "execution_start": 1682670579984,
        "execution_millis": 15688,
        "deepnote_to_be_reexecuted": false,
        "deepnote_cell_type": "code"
      },
      "source": "from math import *\n\nx = int(input('Введите x: '))\ny = int(input('Введите y:'))\naction = int(input('Введите действие (1 - +, 2 - -, 3 - *, 4 - /, 5 - e^(x=y), 6 - sin(x+y), 7 - cos(x+y), 8 - x**y):'))\n\nif action == 1:\n    print(x+y)\nelif action == 2:\n    print(x-y)\nelif action == 3:\n    print(x*y)\nelif action == 4:\n    if (y == 0):\n        print('На ноль делить нельзя!')\n    else:\n        print(x/y)\nelif action == 5:\n    print(e**(x+y))\nelif action == 6:\n    print(sin(x+y))\nelif action == 7:\n    print(cos(x+y))\nelif action == 8:\n    print(x**y)\n\n\n'''\nУказания: обязательно дать выбор действия пользователя, и проверка на деления на ноль\n'''",
      "outputs": [],
      "execution_count": 1
    },
    {
      "cell_type": "markdown",
      "source": "<a style='text-decoration:none;line-height:16px;display:flex;color:#5B5B62;padding:10px;justify-content:end;' href='https://deepnote.com?utm_source=created-in-deepnote-cell&projectId=2480ccc6-6a1b-4590-b704-15c4e752c693' target=\"_blank\">\n<img alt='Created in deepnote.com' style='display:inline;max-height:16px;margin:0px;margin-right:7.5px;' src='data:image/svg+xml;base64,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' > </img>\nCreated in <span style='font-weight:600;margin-left:4px;'>Deepnote</span></a>",
      "metadata": {
        "created_in_deepnote_cell": true,
        "deepnote_cell_type": "markdown"
      }
    }
  ],
  "nbformat": 4,
  "nbformat_minor": 0,
  "metadata": {
    "deepnote": {},
    "orig_nbformat": 2,
    "deepnote_notebook_id": "4d3cd7c01c1f4b069537c22be1e45d60",
    "deepnote_execution_queue": []
  }
}